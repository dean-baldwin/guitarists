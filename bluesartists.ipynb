{
  "nbformat": 4,
  "nbformat_minor": 0,
  "metadata": {
    "colab": {
      "name": "bluesartists.ipynb",
      "provenance": [],
      "collapsed_sections": [],
      "include_colab_link": true
    },
    "kernelspec": {
      "display_name": "Python 3",
      "name": "python3"
    },
    "language_info": {
      "name": "python"
    }
  },
  "cells": [
    {
      "cell_type": "markdown",
      "metadata": {
        "id": "view-in-github",
        "colab_type": "text"
      },
      "source": [
        "<a href=\"https://colab.research.google.com/github/dean-baldwin/guitarists/blob/main/bluesartists.ipynb\" target=\"_parent\"><img src=\"https://colab.research.google.com/assets/colab-badge.svg\" alt=\"Open In Colab\"/></a>"
      ]
    },
    {
      "cell_type": "code",
      "metadata": {
        "colab": {
          "base_uri": "https://localhost:8080/"
        },
        "id": "bC8-voK3IjeL",
        "outputId": "cc3418b8-4e1e-43b2-d769-7f4ff6778660"
      },
      "source": [
        "pip install pyvis"
      ],
      "execution_count": 1,
      "outputs": [
        {
          "output_type": "stream",
          "text": [
            "Collecting pyvis\n",
            "  Downloading pyvis-0.1.9-py3-none-any.whl (23 kB)\n",
            "Requirement already satisfied: networkx>=1.11 in /usr/local/lib/python3.7/dist-packages (from pyvis) (2.6.2)\n",
            "Collecting jsonpickle>=1.4.1\n",
            "  Downloading jsonpickle-2.0.0-py2.py3-none-any.whl (37 kB)\n",
            "Requirement already satisfied: ipython>=5.3.0 in /usr/local/lib/python3.7/dist-packages (from pyvis) (5.5.0)\n",
            "Requirement already satisfied: jinja2>=2.9.6 in /usr/local/lib/python3.7/dist-packages (from pyvis) (2.11.3)\n",
            "Requirement already satisfied: pickleshare in /usr/local/lib/python3.7/dist-packages (from ipython>=5.3.0->pyvis) (0.7.5)\n",
            "Requirement already satisfied: prompt-toolkit<2.0.0,>=1.0.4 in /usr/local/lib/python3.7/dist-packages (from ipython>=5.3.0->pyvis) (1.0.18)\n",
            "Requirement already satisfied: pexpect in /usr/local/lib/python3.7/dist-packages (from ipython>=5.3.0->pyvis) (4.8.0)\n",
            "Requirement already satisfied: decorator in /usr/local/lib/python3.7/dist-packages (from ipython>=5.3.0->pyvis) (4.4.2)\n",
            "Requirement already satisfied: setuptools>=18.5 in /usr/local/lib/python3.7/dist-packages (from ipython>=5.3.0->pyvis) (57.4.0)\n",
            "Requirement already satisfied: traitlets>=4.2 in /usr/local/lib/python3.7/dist-packages (from ipython>=5.3.0->pyvis) (5.0.5)\n",
            "Requirement already satisfied: pygments in /usr/local/lib/python3.7/dist-packages (from ipython>=5.3.0->pyvis) (2.6.1)\n",
            "Requirement already satisfied: simplegeneric>0.8 in /usr/local/lib/python3.7/dist-packages (from ipython>=5.3.0->pyvis) (0.8.1)\n",
            "Requirement already satisfied: MarkupSafe>=0.23 in /usr/local/lib/python3.7/dist-packages (from jinja2>=2.9.6->pyvis) (2.0.1)\n",
            "Requirement already satisfied: importlib-metadata in /usr/local/lib/python3.7/dist-packages (from jsonpickle>=1.4.1->pyvis) (4.6.4)\n",
            "Requirement already satisfied: wcwidth in /usr/local/lib/python3.7/dist-packages (from prompt-toolkit<2.0.0,>=1.0.4->ipython>=5.3.0->pyvis) (0.2.5)\n",
            "Requirement already satisfied: six>=1.9.0 in /usr/local/lib/python3.7/dist-packages (from prompt-toolkit<2.0.0,>=1.0.4->ipython>=5.3.0->pyvis) (1.15.0)\n",
            "Requirement already satisfied: ipython-genutils in /usr/local/lib/python3.7/dist-packages (from traitlets>=4.2->ipython>=5.3.0->pyvis) (0.2.0)\n",
            "Requirement already satisfied: typing-extensions>=3.6.4 in /usr/local/lib/python3.7/dist-packages (from importlib-metadata->jsonpickle>=1.4.1->pyvis) (3.7.4.3)\n",
            "Requirement already satisfied: zipp>=0.5 in /usr/local/lib/python3.7/dist-packages (from importlib-metadata->jsonpickle>=1.4.1->pyvis) (3.5.0)\n",
            "Requirement already satisfied: ptyprocess>=0.5 in /usr/local/lib/python3.7/dist-packages (from pexpect->ipython>=5.3.0->pyvis) (0.7.0)\n",
            "Installing collected packages: jsonpickle, pyvis\n",
            "Successfully installed jsonpickle-2.0.0 pyvis-0.1.9\n"
          ],
          "name": "stdout"
        }
      ]
    },
    {
      "cell_type": "code",
      "metadata": {
        "id": "gUeOni4G116p"
      },
      "source": [
        "import pandas as pd\n",
        "import numpy as np\n",
        "import matplotlib.pyplot as plt\n",
        "from pyvis.network import Network\n",
        "import networkx as nx\n",
        "import IPython"
      ],
      "execution_count": 2,
      "outputs": []
    },
    {
      "cell_type": "code",
      "metadata": {
        "id": "cayXNcVUNaF9"
      },
      "source": [
        "# load the guitarist and influencer dataset\n",
        "path = 'https://docs.google.com/spreadsheets/d/e/2PACX-1vSvZjEr8ctmljiJsE5OTJV6bG4PiDwNX56exZOSoA5skuwUz_orVftdFQWfEYw2HQuG0aIfFbiL-NAM/pub?gid=971011409&single=true&output=csv'\n",
        "df = pd.read_csv(path)\n",
        "\n",
        "weights = df['influence'].value_counts().to_frame()\n",
        "weights.loc['unavailable'] = 0"
      ],
      "execution_count": 3,
      "outputs": []
    },
    {
      "cell_type": "code",
      "metadata": {
        "id": "pSKCgBUvGC9s"
      },
      "source": [
        "path_to_image = 'https://docs.google.com/spreadsheets/d/e/2PACX-1vSvZjEr8ctmljiJsE5OTJV6bG4PiDwNX56exZOSoA5skuwUz_orVftdFQWfEYw2HQuG0aIfFbiL-NAM/pub?gid=2045385092&single=true&output=csv'\n",
        "image_df = pd.read_csv(path_to_image)"
      ],
      "execution_count": 4,
      "outputs": []
    },
    {
      "cell_type": "code",
      "metadata": {
        "id": "zFtgr674BKEY"
      },
      "source": [
        "weight = []\n",
        "for index, row in df.iterrows():\n",
        "  pWeight = 0\n",
        "  iWeight = 0\n",
        "  if row['guitarist'] in weights.index:\n",
        "    pWeight = weights.loc[row['guitarist']]['influence']\n",
        "\n",
        "  if row['influence'] in weights.index:\n",
        "    iWeight = weights.loc[row['influence']]['influence']\n",
        "\n",
        "  weight.append(pWeight + iWeight) \n",
        "\n",
        "df['weight'] = weight"
      ],
      "execution_count": 5,
      "outputs": []
    },
    {
      "cell_type": "code",
      "metadata": {
        "colab": {
          "base_uri": "https://localhost:8080/"
        },
        "id": "AwnO9Lt7GaD_",
        "outputId": "0b47bd20-95ff-48c2-b31c-e58258ae305d"
      },
      "source": [
        "df['guitarist'].nunique()"
      ],
      "execution_count": 6,
      "outputs": [
        {
          "output_type": "execute_result",
          "data": {
            "text/plain": [
              "95"
            ]
          },
          "metadata": {},
          "execution_count": 6
        }
      ]
    },
    {
      "cell_type": "code",
      "metadata": {
        "id": "HxW2zywBIZo2"
      },
      "source": [
        "gtr_df = df.merge(image_df[['guitarist','image']], on=\"guitarist\", how=\"left\")\n",
        "gtr_df[\"image\"] = gtr_df[\"image\"]"
      ],
      "execution_count": 7,
      "outputs": []
    },
    {
      "cell_type": "code",
      "metadata": {
        "colab": {
          "base_uri": "https://localhost:8080/",
          "height": 80
        },
        "id": "5xW4I4WukBgG",
        "outputId": "c1c34afa-b575-4f79-8bba-54e488aab3f2"
      },
      "source": [
        "gtr_df.loc[df['guitarist']=='Pete Seeger']"
      ],
      "execution_count": 8,
      "outputs": [
        {
          "output_type": "execute_result",
          "data": {
            "text/html": [
              "<div>\n",
              "<style scoped>\n",
              "    .dataframe tbody tr th:only-of-type {\n",
              "        vertical-align: middle;\n",
              "    }\n",
              "\n",
              "    .dataframe tbody tr th {\n",
              "        vertical-align: top;\n",
              "    }\n",
              "\n",
              "    .dataframe thead th {\n",
              "        text-align: right;\n",
              "    }\n",
              "</style>\n",
              "<table border=\"1\" class=\"dataframe\">\n",
              "  <thead>\n",
              "    <tr style=\"text-align: right;\">\n",
              "      <th></th>\n",
              "      <th>guitarist</th>\n",
              "      <th>influence</th>\n",
              "      <th>weight</th>\n",
              "      <th>image</th>\n",
              "    </tr>\n",
              "  </thead>\n",
              "  <tbody>\n",
              "    <tr>\n",
              "      <th>144</th>\n",
              "      <td>Pete Seeger</td>\n",
              "      <td>unavailable</td>\n",
              "      <td>1</td>\n",
              "      <td>https://deanbaldwinmusic.com/guitarists/petese...</td>\n",
              "    </tr>\n",
              "  </tbody>\n",
              "</table>\n",
              "</div>"
            ],
            "text/plain": [
              "       guitarist  ...                                              image\n",
              "144  Pete Seeger  ...  https://deanbaldwinmusic.com/guitarists/petese...\n",
              "\n",
              "[1 rows x 4 columns]"
            ]
          },
          "metadata": {},
          "execution_count": 8
        }
      ]
    },
    {
      "cell_type": "code",
      "metadata": {
        "id": "o-3ny96yoyRS",
        "outputId": "9617be35-8ea0-4261-db43-abbf9bce9d71",
        "colab": {
          "base_uri": "https://localhost:8080/",
          "height": 341
        }
      },
      "source": [
        "gtr_net = Network(height='1000px', width='100%', bgcolor='white', font_color='#222222', heading=\"Lines of Influence\")\n",
        "\n",
        "# set the physics layout of the network\n",
        "gtr_net.barnes_hut()\n",
        "\n",
        "sources = gtr_df['guitarist']\n",
        "targets = gtr_df['influence']\n",
        "weights = gtr_df['weight']\n",
        "image = gtr_df['image']\n",
        "\n",
        "edge_data = zip(sources, targets, image, weights)\n",
        "\n",
        "for e in edge_data:\n",
        "    src = e[0]\n",
        "    dst = e[1]\n",
        "    img = e[2]\n",
        "    w = e[3]\n",
        "  \n",
        "    gtr_net.add_node(src, src, title=src, labelHighlightBold=True, shape='image', image = img)\n",
        "    gtr_net.add_node(dst, dst, title=dst)\n",
        "    edge_title = '<b>' + src + \"</b></br>was infuenced by</br>\" + dst\n",
        "    gtr_net.add_edge(src, dst, value=w, arrowStrikethrough=False, title=edge_title)\n",
        "    \n",
        "\n",
        "neighbor_map = gtr_net.get_adj_list()\n",
        "\n",
        "# add neighbor data to node hover data\n",
        "\"\"\"\n",
        "for node in gtr_net.nodes:\n",
        "    node['title'] += ' Influences:<br>' + '<br>'.join(neighbor_map[node['id']])\n",
        "    node['value'] = len(neighbor_map[node['id']])\n",
        "\"\"\"\n",
        "\n",
        "\n",
        "gtr_net.set_options(\n",
        "\"\"\"\n",
        "var options = {\n",
        "  \"nodes\": {\n",
        "    \"color\": {\n",
        "      \"border\": \"rgba(131,138,165,0.47)\",\n",
        "      \"background\": \"rgba(137,138,155,0.78)\"\n",
        "    },\n",
        "    \"shadow\": {\n",
        "      \"enabled\": true\n",
        "    }\n",
        "  },\n",
        "  \"font\": {\n",
        "    \"size\": 50,\n",
        "    \"face\": \"verdana\",\n",
        "    \"strokeColor\": \"rgba(190,168,255,1)\"\n",
        "  },\n",
        "  \"edges\": {\n",
        "    \"arrows\": {\n",
        "      \"to\": {\n",
        "        \"enabled\": true\n",
        "      }\n",
        "    },\n",
        "    \"color\": {\n",
        "      \"color\": \"rgba(199,205,214,0.31)\",\n",
        "      \"highlight\": \"rgba(104,133,214,1)\",\n",
        "      \"hover\": \"rgba(129,186,255,1)\",\n",
        "      \"inherit\": false\n",
        "    },\n",
        "    \"hoverWidth\": 2\n",
        "  },\n",
        "  \"interaction\": {\n",
        "    \"hover\": true,\n",
        "    \"multiselect\": true\n",
        "  },\n",
        "  \"manipulation\": {\n",
        "    \"enabled\": false,\n",
        "    \"initiallyActive\": false\n",
        "  },\n",
        "  \"physics\": {\n",
        "    \"forceAtlas2Based\": {\n",
        "      \"springLength\": 100\n",
        "    },\n",
        "    \"minVelocity\": 0.75,\n",
        "    \"solver\": \"forceAtlas2Based\"\n",
        "  }\n",
        "}\n",
        "\"\"\"\n",
        ")\n",
        "\n",
        "#gtr_net.show_buttons(filter_=None)\n",
        "gtr_net.show('/content/drive/MyDrive/guitarists.html')"
      ],
      "execution_count": 9,
      "outputs": [
        {
          "output_type": "error",
          "ename": "FileNotFoundError",
          "evalue": "ignored",
          "traceback": [
            "\u001b[0;31m---------------------------------------------------------------------------\u001b[0m",
            "\u001b[0;31mFileNotFoundError\u001b[0m                         Traceback (most recent call last)",
            "\u001b[0;32m<ipython-input-9-a089359482b0>\u001b[0m in \u001b[0;36m<module>\u001b[0;34m()\u001b[0m\n\u001b[1;32m     84\u001b[0m \u001b[0;34m\u001b[0m\u001b[0m\n\u001b[1;32m     85\u001b[0m \u001b[0;31m#gtr_net.show_buttons(filter_=None)\u001b[0m\u001b[0;34m\u001b[0m\u001b[0;34m\u001b[0m\u001b[0;34m\u001b[0m\u001b[0m\n\u001b[0;32m---> 86\u001b[0;31m \u001b[0mgtr_net\u001b[0m\u001b[0;34m.\u001b[0m\u001b[0mshow\u001b[0m\u001b[0;34m(\u001b[0m\u001b[0;34m'/content/drive/MyDrive/guitarists.html'\u001b[0m\u001b[0;34m)\u001b[0m\u001b[0;34m\u001b[0m\u001b[0;34m\u001b[0m\u001b[0m\n\u001b[0m",
            "\u001b[0;32m/usr/local/lib/python3.7/dist-packages/pyvis/network.py\u001b[0m in \u001b[0;36mshow\u001b[0;34m(self, name)\u001b[0m\n\u001b[1;32m    476\u001b[0m             \u001b[0;32mreturn\u001b[0m \u001b[0mself\u001b[0m\u001b[0;34m.\u001b[0m\u001b[0mwrite_html\u001b[0m\u001b[0;34m(\u001b[0m\u001b[0mname\u001b[0m\u001b[0;34m,\u001b[0m \u001b[0mnotebook\u001b[0m\u001b[0;34m=\u001b[0m\u001b[0;32mTrue\u001b[0m\u001b[0;34m)\u001b[0m\u001b[0;34m\u001b[0m\u001b[0;34m\u001b[0m\u001b[0m\n\u001b[1;32m    477\u001b[0m         \u001b[0;32melse\u001b[0m\u001b[0;34m:\u001b[0m\u001b[0;34m\u001b[0m\u001b[0;34m\u001b[0m\u001b[0m\n\u001b[0;32m--> 478\u001b[0;31m             \u001b[0mself\u001b[0m\u001b[0;34m.\u001b[0m\u001b[0mwrite_html\u001b[0m\u001b[0;34m(\u001b[0m\u001b[0mname\u001b[0m\u001b[0;34m)\u001b[0m\u001b[0;34m\u001b[0m\u001b[0;34m\u001b[0m\u001b[0m\n\u001b[0m\u001b[1;32m    479\u001b[0m             \u001b[0mwebbrowser\u001b[0m\u001b[0;34m.\u001b[0m\u001b[0mopen\u001b[0m\u001b[0;34m(\u001b[0m\u001b[0mname\u001b[0m\u001b[0;34m)\u001b[0m\u001b[0;34m\u001b[0m\u001b[0;34m\u001b[0m\u001b[0m\n\u001b[1;32m    480\u001b[0m \u001b[0;34m\u001b[0m\u001b[0m\n",
            "\u001b[0;32m/usr/local/lib/python3.7/dist-packages/pyvis/network.py\u001b[0m in \u001b[0;36mwrite_html\u001b[0;34m(self, name, notebook)\u001b[0m\n\u001b[1;32m    459\u001b[0m                                     tooltip_link=use_link_template)\n\u001b[1;32m    460\u001b[0m \u001b[0;34m\u001b[0m\u001b[0m\n\u001b[0;32m--> 461\u001b[0;31m         \u001b[0;32mwith\u001b[0m \u001b[0mopen\u001b[0m\u001b[0;34m(\u001b[0m\u001b[0mname\u001b[0m\u001b[0;34m,\u001b[0m \u001b[0;34m\"w+\"\u001b[0m\u001b[0;34m)\u001b[0m \u001b[0;32mas\u001b[0m \u001b[0mout\u001b[0m\u001b[0;34m:\u001b[0m\u001b[0;34m\u001b[0m\u001b[0;34m\u001b[0m\u001b[0m\n\u001b[0m\u001b[1;32m    462\u001b[0m             \u001b[0mout\u001b[0m\u001b[0;34m.\u001b[0m\u001b[0mwrite\u001b[0m\u001b[0;34m(\u001b[0m\u001b[0mself\u001b[0m\u001b[0;34m.\u001b[0m\u001b[0mhtml\u001b[0m\u001b[0;34m)\u001b[0m\u001b[0;34m\u001b[0m\u001b[0;34m\u001b[0m\u001b[0m\n\u001b[1;32m    463\u001b[0m \u001b[0;34m\u001b[0m\u001b[0m\n",
            "\u001b[0;31mFileNotFoundError\u001b[0m: [Errno 2] No such file or directory: '/content/drive/MyDrive/guitarists.html'"
          ]
        }
      ]
    },
    {
      "cell_type": "code",
      "metadata": {
        "id": "MrLlr-1w8j3x"
      },
      "source": [
        "IPython.display.HTML(filename='/content/drive/MyDrive/guitarists.html')"
      ],
      "execution_count": null,
      "outputs": []
    }
  ]
}