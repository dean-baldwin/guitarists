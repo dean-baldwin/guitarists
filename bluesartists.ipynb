{
  "nbformat": 4,
  "nbformat_minor": 0,
  "metadata": {
    "colab": {
      "name": "bluesartists.ipynb",
      "provenance": [],
      "collapsed_sections": []
    },
    "kernelspec": {
      "display_name": "Python 3",
      "name": "python3"
    },
    "language_info": {
      "name": "python"
    }
  },
  "cells": [
    {
      "cell_type": "code",
      "metadata": {
        "colab": {
          "base_uri": "https://localhost:8080/"
        },
        "id": "bC8-voK3IjeL",
        "outputId": "8d51e60c-7a14-4227-f21e-c9076a020f52"
      },
      "source": [
        "pip install pyvis"
      ],
      "execution_count": 1,
      "outputs": [
        {
          "output_type": "stream",
          "text": [
            "Collecting pyvis\n",
            "  Downloading pyvis-0.1.9-py3-none-any.whl (23 kB)\n",
            "Requirement already satisfied: networkx>=1.11 in /usr/local/lib/python3.7/dist-packages (from pyvis) (2.6.2)\n",
            "Collecting jsonpickle>=1.4.1\n",
            "  Downloading jsonpickle-2.0.0-py2.py3-none-any.whl (37 kB)\n",
            "Requirement already satisfied: ipython>=5.3.0 in /usr/local/lib/python3.7/dist-packages (from pyvis) (5.5.0)\n",
            "Requirement already satisfied: jinja2>=2.9.6 in /usr/local/lib/python3.7/dist-packages (from pyvis) (2.11.3)\n",
            "Requirement already satisfied: simplegeneric>0.8 in /usr/local/lib/python3.7/dist-packages (from ipython>=5.3.0->pyvis) (0.8.1)\n",
            "Requirement already satisfied: prompt-toolkit<2.0.0,>=1.0.4 in /usr/local/lib/python3.7/dist-packages (from ipython>=5.3.0->pyvis) (1.0.18)\n",
            "Requirement already satisfied: setuptools>=18.5 in /usr/local/lib/python3.7/dist-packages (from ipython>=5.3.0->pyvis) (57.4.0)\n",
            "Requirement already satisfied: pygments in /usr/local/lib/python3.7/dist-packages (from ipython>=5.3.0->pyvis) (2.6.1)\n",
            "Requirement already satisfied: pickleshare in /usr/local/lib/python3.7/dist-packages (from ipython>=5.3.0->pyvis) (0.7.5)\n",
            "Requirement already satisfied: pexpect in /usr/local/lib/python3.7/dist-packages (from ipython>=5.3.0->pyvis) (4.8.0)\n",
            "Requirement already satisfied: decorator in /usr/local/lib/python3.7/dist-packages (from ipython>=5.3.0->pyvis) (4.4.2)\n",
            "Requirement already satisfied: traitlets>=4.2 in /usr/local/lib/python3.7/dist-packages (from ipython>=5.3.0->pyvis) (5.0.5)\n",
            "Requirement already satisfied: MarkupSafe>=0.23 in /usr/local/lib/python3.7/dist-packages (from jinja2>=2.9.6->pyvis) (2.0.1)\n",
            "Requirement already satisfied: importlib-metadata in /usr/local/lib/python3.7/dist-packages (from jsonpickle>=1.4.1->pyvis) (4.6.4)\n",
            "Requirement already satisfied: six>=1.9.0 in /usr/local/lib/python3.7/dist-packages (from prompt-toolkit<2.0.0,>=1.0.4->ipython>=5.3.0->pyvis) (1.15.0)\n",
            "Requirement already satisfied: wcwidth in /usr/local/lib/python3.7/dist-packages (from prompt-toolkit<2.0.0,>=1.0.4->ipython>=5.3.0->pyvis) (0.2.5)\n",
            "Requirement already satisfied: ipython-genutils in /usr/local/lib/python3.7/dist-packages (from traitlets>=4.2->ipython>=5.3.0->pyvis) (0.2.0)\n",
            "Requirement already satisfied: zipp>=0.5 in /usr/local/lib/python3.7/dist-packages (from importlib-metadata->jsonpickle>=1.4.1->pyvis) (3.5.0)\n",
            "Requirement already satisfied: typing-extensions>=3.6.4 in /usr/local/lib/python3.7/dist-packages (from importlib-metadata->jsonpickle>=1.4.1->pyvis) (3.7.4.3)\n",
            "Requirement already satisfied: ptyprocess>=0.5 in /usr/local/lib/python3.7/dist-packages (from pexpect->ipython>=5.3.0->pyvis) (0.7.0)\n",
            "Installing collected packages: jsonpickle, pyvis\n",
            "Successfully installed jsonpickle-2.0.0 pyvis-0.1.9\n"
          ],
          "name": "stdout"
        }
      ]
    },
    {
      "cell_type": "code",
      "metadata": {
        "id": "gUeOni4G116p"
      },
      "source": [
        "import pandas as pd\n",
        "import numpy as np\n",
        "import matplotlib.pyplot as plt\n",
        "from pyvis.network import Network\n",
        "import networkx as nx\n",
        "import IPython"
      ],
      "execution_count": 2,
      "outputs": []
    },
    {
      "cell_type": "code",
      "metadata": {
        "id": "cayXNcVUNaF9"
      },
      "source": [
        "# load the guitarist and influencer dataset\n",
        "path = 'https://docs.google.com/spreadsheets/d/e/2PACX-1vSvZjEr8ctmljiJsE5OTJV6bG4PiDwNX56exZOSoA5skuwUz_orVftdFQWfEYw2HQuG0aIfFbiL-NAM/pub?gid=971011409&single=true&output=csv'\n",
        "df = pd.read_csv(path)\n",
        "\n",
        "weights = df['influence'].value_counts().to_frame()\n",
        "weights.loc['unavailable'] = 0"
      ],
      "execution_count": 27,
      "outputs": []
    },
    {
      "cell_type": "code",
      "metadata": {
        "id": "pSKCgBUvGC9s"
      },
      "source": [
        "path_to_image = 'https://docs.google.com/spreadsheets/d/e/2PACX-1vSvZjEr8ctmljiJsE5OTJV6bG4PiDwNX56exZOSoA5skuwUz_orVftdFQWfEYw2HQuG0aIfFbiL-NAM/pub?gid=2045385092&single=true&output=csv'\n",
        "image_df = pd.read_csv(path_to_image)"
      ],
      "execution_count": 28,
      "outputs": []
    },
    {
      "cell_type": "code",
      "metadata": {
        "id": "zFtgr674BKEY"
      },
      "source": [
        "weight = []\n",
        "for index, row in df.iterrows():\n",
        "  pWeight = 0\n",
        "  iWeight = 0\n",
        "  if row['guitarist'] in weights.index:\n",
        "    pWeight = weights.loc[row['guitarist']]['influence']\n",
        "\n",
        "  if row['influence'] in weights.index:\n",
        "    iWeight = weights.loc[row['influence']]['influence']\n",
        "\n",
        "  weight.append(pWeight + iWeight) \n",
        "\n",
        "df['weight'] = weight"
      ],
      "execution_count": 30,
      "outputs": []
    },
    {
      "cell_type": "code",
      "metadata": {
        "colab": {
          "base_uri": "https://localhost:8080/"
        },
        "id": "AwnO9Lt7GaD_",
        "outputId": "4d0382c8-5591-42c5-9629-a574d5623f57"
      },
      "source": [
        "df['guitarist'].nunique()"
      ],
      "execution_count": 35,
      "outputs": [
        {
          "output_type": "execute_result",
          "data": {
            "text/plain": [
              "95"
            ]
          },
          "metadata": {},
          "execution_count": 35
        }
      ]
    },
    {
      "cell_type": "code",
      "metadata": {
        "id": "HxW2zywBIZo2"
      },
      "source": [
        "gtr_df = df.merge(image_df[['guitarist','image']], on=\"guitarist\", how=\"left\")\n",
        "gtr_df[\"image\"] = gtr_df[\"image\"]"
      ],
      "execution_count": 31,
      "outputs": []
    },
    {
      "cell_type": "code",
      "metadata": {
        "colab": {
          "base_uri": "https://localhost:8080/",
          "height": 80
        },
        "id": "5xW4I4WukBgG",
        "outputId": "a30bacd0-3c11-49b7-b4c3-89f32c0da190"
      },
      "source": [
        "gtr_df.loc[df['guitarist']=='Pete Seeger']"
      ],
      "execution_count": 32,
      "outputs": [
        {
          "output_type": "execute_result",
          "data": {
            "text/html": [
              "<div>\n",
              "<style scoped>\n",
              "    .dataframe tbody tr th:only-of-type {\n",
              "        vertical-align: middle;\n",
              "    }\n",
              "\n",
              "    .dataframe tbody tr th {\n",
              "        vertical-align: top;\n",
              "    }\n",
              "\n",
              "    .dataframe thead th {\n",
              "        text-align: right;\n",
              "    }\n",
              "</style>\n",
              "<table border=\"1\" class=\"dataframe\">\n",
              "  <thead>\n",
              "    <tr style=\"text-align: right;\">\n",
              "      <th></th>\n",
              "      <th>guitarist</th>\n",
              "      <th>influence</th>\n",
              "      <th>weight</th>\n",
              "      <th>image</th>\n",
              "    </tr>\n",
              "  </thead>\n",
              "  <tbody>\n",
              "    <tr>\n",
              "      <th>144</th>\n",
              "      <td>Pete Seeger</td>\n",
              "      <td>unavailable</td>\n",
              "      <td>1</td>\n",
              "      <td>https://deanbaldwinmusic.com/guitarists/petese...</td>\n",
              "    </tr>\n",
              "  </tbody>\n",
              "</table>\n",
              "</div>"
            ],
            "text/plain": [
              "       guitarist  ...                                              image\n",
              "144  Pete Seeger  ...  https://deanbaldwinmusic.com/guitarists/petese...\n",
              "\n",
              "[1 rows x 4 columns]"
            ]
          },
          "metadata": {},
          "execution_count": 32
        }
      ]
    },
    {
      "cell_type": "code",
      "metadata": {
        "id": "o-3ny96yoyRS"
      },
      "source": [
        "gtr_net = Network(height='1000px', width='100%', bgcolor='white', font_color='#222222', heading=\"Lines of Influence\")\n",
        "\n",
        "# set the physics layout of the network\n",
        "gtr_net.barnes_hut()\n",
        "\n",
        "sources = gtr_df['guitarist']\n",
        "targets = gtr_df['influence']\n",
        "weights = gtr_df['weight']\n",
        "image = gtr_df['image']\n",
        "\n",
        "edge_data = zip(sources, targets, image, weights)\n",
        "\n",
        "for e in edge_data:\n",
        "    src = e[0]\n",
        "    dst = e[1]\n",
        "    img = e[2]\n",
        "    w = e[3]\n",
        "  \n",
        "    gtr_net.add_node(src, src, title=src, labelHighlightBold=True, shape='image', image = img)\n",
        "    gtr_net.add_node(dst, dst, title=dst)\n",
        "    edge_title = '<b>' + src + \"</b></br>was infuenced by</br>\" + dst\n",
        "    gtr_net.add_edge(src, dst, value=w, arrowStrikethrough=False, title=edge_title)\n",
        "    \n",
        "\n",
        "neighbor_map = gtr_net.get_adj_list()\n",
        "\n",
        "# add neighbor data to node hover data\n",
        "\"\"\"\n",
        "for node in gtr_net.nodes:\n",
        "    node['title'] += ' Influences:<br>' + '<br>'.join(neighbor_map[node['id']])\n",
        "    node['value'] = len(neighbor_map[node['id']])\n",
        "\"\"\"\n",
        "\n",
        "\n",
        "gtr_net.set_options(\n",
        "\"\"\"\n",
        "var options = {\n",
        "  \"nodes\": {\n",
        "    \"color\": {\n",
        "      \"border\": \"rgba(131,138,165,0.47)\",\n",
        "      \"background\": \"rgba(137,138,155,0.78)\"\n",
        "    },\n",
        "    \"shadow\": {\n",
        "      \"enabled\": true\n",
        "    }\n",
        "  },\n",
        "  \"font\": {\n",
        "    \"size\": 50,\n",
        "    \"face\": \"verdana\",\n",
        "    \"strokeColor\": \"rgba(190,168,255,1)\"\n",
        "  },\n",
        "  \"edges\": {\n",
        "    \"arrows\": {\n",
        "      \"to\": {\n",
        "        \"enabled\": true\n",
        "      }\n",
        "    },\n",
        "    \"color\": {\n",
        "      \"color\": \"rgba(199,205,214,0.31)\",\n",
        "      \"highlight\": \"rgba(104,133,214,1)\",\n",
        "      \"hover\": \"rgba(129,186,255,1)\",\n",
        "      \"inherit\": false\n",
        "    },\n",
        "    \"hoverWidth\": 2\n",
        "  },\n",
        "  \"interaction\": {\n",
        "    \"hover\": true,\n",
        "    \"multiselect\": true\n",
        "  },\n",
        "  \"manipulation\": {\n",
        "    \"enabled\": false,\n",
        "    \"initiallyActive\": false\n",
        "  },\n",
        "  \"physics\": {\n",
        "    \"forceAtlas2Based\": {\n",
        "      \"springLength\": 100\n",
        "    },\n",
        "    \"minVelocity\": 0.75,\n",
        "    \"solver\": \"forceAtlas2Based\"\n",
        "  }\n",
        "}\n",
        "\"\"\"\n",
        ")\n",
        "\n",
        "#gtr_net.show_buttons(filter_=None)\n",
        "gtr_net.show('/content/drive/MyDrive/guitarists.html')"
      ],
      "execution_count": 33,
      "outputs": []
    },
    {
      "cell_type": "code",
      "metadata": {
        "colab": {
          "base_uri": "https://localhost:8080/",
          "height": 1000
        },
        "id": "MrLlr-1w8j3x",
        "outputId": "62436fdd-5b66-483d-e17f-c02234b68a36"
      },
      "source": [
        "IPython.display.HTML(filename='/content/drive/MyDrive/guitarists.html')"
      ],
      "execution_count": 34,
      "outputs": [
        {
          "output_type": "execute_result",
          "data": {
            "text/html": [
              "<html>\n",
              "<head>\n",
              "<link rel=\"stylesheet\" href=\"https://cdnjs.cloudflare.com/ajax/libs/vis/4.16.1/vis.css\" type=\"text/css\" />\n",
              "<script type=\"text/javascript\" src=\"https://cdnjs.cloudflare.com/ajax/libs/vis/4.16.1/vis-network.min.js\"> </script>\n",
              "<center>\n",
              "<h1>Lines of Influence</h1>\n",
              "</center>\n",
              "\n",
              "<!-- <link rel=\"stylesheet\" href=\"../node_modules/vis/dist/vis.min.css\" type=\"text/css\" />\n",
              "<script type=\"text/javascript\" src=\"../node_modules/vis/dist/vis.js\"> </script>-->\n",
              "\n",
              "<style type=\"text/css\">\n",
              "\n",
              "        #mynetwork {\n",
              "            width: 100%;\n",
              "            height: 1000px;\n",
              "            background-color: white;\n",
              "            border: 1px solid lightgray;\n",
              "            position: relative;\n",
              "            float: left;\n",
              "        }\n",
              "\n",
              "        \n",
              "        #loadingBar {\n",
              "            position:absolute;\n",
              "            top:0px;\n",
              "            left:0px;\n",
              "            width: 100%;\n",
              "            height: 1000px;\n",
              "            background-color:rgba(200,200,200,0.8);\n",
              "            -webkit-transition: all 0.5s ease;\n",
              "            -moz-transition: all 0.5s ease;\n",
              "            -ms-transition: all 0.5s ease;\n",
              "            -o-transition: all 0.5s ease;\n",
              "            transition: all 0.5s ease;\n",
              "            opacity:1;\n",
              "        }\n",
              "\n",
              "        #bar {\n",
              "            position:absolute;\n",
              "            top:0px;\n",
              "            left:0px;\n",
              "            width:20px;\n",
              "            height:20px;\n",
              "            margin:auto auto auto auto;\n",
              "            border-radius:11px;\n",
              "            border:2px solid rgba(30,30,30,0.05);\n",
              "            background: rgb(0, 173, 246); /* Old browsers */\n",
              "            box-shadow: 2px 0px 4px rgba(0,0,0,0.4);\n",
              "        }\n",
              "\n",
              "        #border {\n",
              "            position:absolute;\n",
              "            top:10px;\n",
              "            left:10px;\n",
              "            width:500px;\n",
              "            height:23px;\n",
              "            margin:auto auto auto auto;\n",
              "            box-shadow: 0px 0px 4px rgba(0,0,0,0.2);\n",
              "            border-radius:10px;\n",
              "        }\n",
              "\n",
              "        #text {\n",
              "            position:absolute;\n",
              "            top:8px;\n",
              "            left:530px;\n",
              "            width:30px;\n",
              "            height:50px;\n",
              "            margin:auto auto auto auto;\n",
              "            font-size:22px;\n",
              "            color: #000000;\n",
              "        }\n",
              "\n",
              "        div.outerBorder {\n",
              "            position:relative;\n",
              "            top:400px;\n",
              "            width:600px;\n",
              "            height:44px;\n",
              "            margin:auto auto auto auto;\n",
              "            border:8px solid rgba(0,0,0,0.1);\n",
              "            background: rgb(252,252,252); /* Old browsers */\n",
              "            background: -moz-linear-gradient(top,  rgba(252,252,252,1) 0%, rgba(237,237,237,1) 100%); /* FF3.6+ */\n",
              "            background: -webkit-gradient(linear, left top, left bottom, color-stop(0%,rgba(252,252,252,1)), color-stop(100%,rgba(237,237,237,1))); /* Chrome,Safari4+ */\n",
              "            background: -webkit-linear-gradient(top,  rgba(252,252,252,1) 0%,rgba(237,237,237,1) 100%); /* Chrome10+,Safari5.1+ */\n",
              "            background: -o-linear-gradient(top,  rgba(252,252,252,1) 0%,rgba(237,237,237,1) 100%); /* Opera 11.10+ */\n",
              "            background: -ms-linear-gradient(top,  rgba(252,252,252,1) 0%,rgba(237,237,237,1) 100%); /* IE10+ */\n",
              "            background: linear-gradient(to bottom,  rgba(252,252,252,1) 0%,rgba(237,237,237,1) 100%); /* W3C */\n",
              "            filter: progid:DXImageTransform.Microsoft.gradient( startColorstr='#fcfcfc', endColorstr='#ededed',GradientType=0 ); /* IE6-9 */\n",
              "            border-radius:72px;\n",
              "            box-shadow: 0px 0px 10px rgba(0,0,0,0.2);\n",
              "        }\n",
              "        \n",
              "\n",
              "        \n",
              "\n",
              "        \n",
              "</style>\n",
              "\n",
              "</head>\n",
              "\n",
              "<body>\n",
              "<div id = \"mynetwork\"></div>\n",
              "\n",
              "<div id=\"loadingBar\">\n",
              "    <div class=\"outerBorder\">\n",
              "        <div id=\"text\">0%</div>\n",
              "        <div id=\"border\">\n",
              "            <div id=\"bar\"></div>\n",
              "        </div>\n",
              "    </div>\n",
              "</div>\n",
              "\n",
              "\n",
              "<script type=\"text/javascript\">\n",
              "\n",
              "    // initialize global variables.\n",
              "    var edges;\n",
              "    var nodes;\n",
              "    var network; \n",
              "    var container;\n",
              "    var options, data;\n",
              "\n",
              "    \n",
              "    // This method is responsible for drawing the graph, returns the drawn network\n",
              "    function drawGraph() {\n",
              "        var container = document.getElementById('mynetwork');\n",
              "        \n",
              "        \n",
              "\n",
              "        // parsing and collecting nodes and edges from the python\n",
              "        nodes = new vis.DataSet([{\"font\": {\"color\": \"#222222\"}, \"id\": \"Albert Collins\", \"image\": \"https://deanbaldwinmusic.com/guitarists/albertking.png\", \"label\": \"Albert Collins\", \"labelHighlightBold\": true, \"shape\": \"image\", \"title\": \"Albert Collins\"}, {\"font\": {\"color\": \"#222222\"}, \"id\": \"John Lee Hooker\", \"label\": \"John Lee Hooker\", \"shape\": \"dot\", \"title\": \"John Lee Hooker\"}, {\"font\": {\"color\": \"#222222\"}, \"id\": \"Lightnin Hopkins\", \"label\": \"Lightnin Hopkins\", \"shape\": \"dot\", \"title\": \"Lightnin Hopkins\"}, {\"font\": {\"color\": \"#222222\"}, \"id\": \"Albert King\", \"image\": \"https://deanbaldwinmusic.com/guitarists/albertcollins.png\", \"label\": \"Albert King\", \"labelHighlightBold\": true, \"shape\": \"image\", \"title\": \"Albert King\"}, {\"font\": {\"color\": \"#222222\"}, \"id\": \"Blind Lemon Jefferson\", \"label\": \"Blind Lemon Jefferson\", \"shape\": \"dot\", \"title\": \"Blind Lemon Jefferson\"}, {\"font\": {\"color\": \"#222222\"}, \"id\": \"Elmore James\", \"label\": \"Elmore James\", \"shape\": \"dot\", \"title\": \"Elmore James\"}, {\"font\": {\"color\": \"#222222\"}, \"id\": \"Lonnie Johnson\", \"label\": \"Lonnie Johnson\", \"shape\": \"dot\", \"title\": \"Lonnie Johnson\"}, {\"font\": {\"color\": \"#222222\"}, \"id\": \"Arthur Crudup\", \"image\": \"https://deanbaldwinmusic.com/guitarists/arthurcrudup.png\", \"label\": \"Arthur Crudup\", \"labelHighlightBold\": true, \"shape\": \"image\", \"title\": \"Arthur Crudup\"}, {\"font\": {\"color\": \"#222222\"}, \"id\": \"unavailable\", \"label\": \"unavailable\", \"shape\": \"dot\", \"title\": \"unavailable\"}, {\"font\": {\"color\": \"#222222\"}, \"id\": \"B.B. King\", \"image\": \"https://deanbaldwinmusic.com/guitarists/bbking.png\", \"label\": \"B.B. King\", \"labelHighlightBold\": true, \"shape\": \"image\", \"title\": \"B.B. King\"}, {\"font\": {\"color\": \"#222222\"}, \"id\": \"Bukka White\", \"label\": \"Bukka White\", \"shape\": \"dot\", \"title\": \"Bukka White\"}, {\"font\": {\"color\": \"#222222\"}, \"id\": \"T-bone Walker\", \"label\": \"T-bone Walker\", \"shape\": \"dot\", \"title\": \"T-bone Walker\"}, {\"font\": {\"color\": \"#222222\"}, \"id\": \"Barney Kessel\", \"image\": \"https://deanbaldwinmusic.com/guitarists/barneykessel.png\", \"label\": \"Barney Kessel\", \"labelHighlightBold\": true, \"shape\": \"image\", \"title\": \"Barney Kessel\"}, {\"font\": {\"color\": \"#222222\"}, \"id\": \"Charlie Christian\", \"label\": \"Charlie Christian\", \"shape\": \"dot\", \"title\": \"Charlie Christian\"}, {\"font\": {\"color\": \"#222222\"}, \"id\": \"Big Bill Broonzy\", \"image\": \"https://deanbaldwinmusic.com/guitarists/bigbillbroonzy.png\", \"label\": \"Big Bill Broonzy\", \"labelHighlightBold\": true, \"shape\": \"image\", \"title\": \"Big Bill Broonzy\"}, {\"font\": {\"color\": \"#222222\"}, \"id\": \"Blind Blake\", \"label\": \"Blind Blake\", \"shape\": \"dot\", \"title\": \"Blind Blake\"}, {\"font\": {\"color\": \"#222222\"}, \"id\": \"Tampa Red\", \"label\": \"Tampa Red\", \"shape\": \"dot\", \"title\": \"Tampa Red\"}, {\"font\": {\"color\": \"#222222\"}, \"id\": \"Big Joe Williams\", \"image\": \"https://deanbaldwinmusic.com/guitarists/bigjoewilliams.png\", \"label\": \"Big Joe Williams\", \"labelHighlightBold\": true, \"shape\": \"image\", \"title\": \"Big Joe Williams\"}, {\"font\": {\"color\": \"#222222\"}, \"id\": \"Charley Patton\", \"label\": \"Charley Patton\", \"shape\": \"dot\", \"title\": \"Charley Patton\"}, {\"font\": {\"color\": \"#222222\"}, \"id\": \"Billy Gibbons\", \"image\": \"https://deanbaldwinmusic.com/guitarists/billygibbons.png\", \"label\": \"Billy Gibbons\", \"labelHighlightBold\": true, \"shape\": \"image\", \"title\": \"Billy Gibbons\"}, {\"font\": {\"color\": \"#222222\"}, \"id\": \"Elvis Presley\", \"label\": \"Elvis Presley\", \"shape\": \"dot\", \"title\": \"Elvis Presley\"}, {\"font\": {\"color\": \"#222222\"}, \"id\": \"Jimmy Reed\", \"label\": \"Jimmy Reed\", \"shape\": \"dot\", \"title\": \"Jimmy Reed\"}, {\"font\": {\"color\": \"#222222\"}, \"id\": \"Blind Boy Fuller\", \"image\": \"https://deanbaldwinmusic.com/guitarists/blindboyfuller.png\", \"label\": \"Blind Boy Fuller\", \"labelHighlightBold\": true, \"shape\": \"image\", \"title\": \"Blind Boy Fuller\"}, {\"font\": {\"color\": \"#222222\"}, \"id\": \"Blind Gary Davis\", \"label\": \"Blind Gary Davis\", \"shape\": \"dot\", \"title\": \"Blind Gary Davis\"}, {\"font\": {\"color\": \"#222222\"}, \"id\": \"Blind Simmie Dooley\", \"label\": \"Blind Simmie Dooley\", \"shape\": \"dot\", \"title\": \"Blind Simmie Dooley\"}, {\"font\": {\"color\": \"#222222\"}, \"id\": \"Blind Willie Johnson\", \"image\": \"https://deanbaldwinmusic.com/guitarists/blindwilliejohnson.png\", \"label\": \"Blind Willie Johnson\", \"labelHighlightBold\": true, \"shape\": \"image\", \"title\": \"Blind Willie Johnson\"}, {\"font\": {\"color\": \"#222222\"}, \"id\": \"Madkin Butler\", \"label\": \"Madkin Butler\", \"shape\": \"dot\", \"title\": \"Madkin Butler\"}, {\"font\": {\"color\": \"#222222\"}, \"id\": \"Blind Willie McTell\", \"image\": \"https://deanbaldwinmusic.com/guitarists/blindwilliemctell.png\", \"label\": \"Blind Willie McTell\", \"labelHighlightBold\": true, \"shape\": \"image\", \"title\": \"Blind Willie McTell\"}, {\"font\": {\"color\": \"#222222\"}, \"id\": \"Bo Diddley\", \"image\": \"https://deanbaldwinmusic.com/guitarists/bodiddley.png\", \"label\": \"Bo Diddley\", \"labelHighlightBold\": true, \"shape\": \"image\", \"title\": \"Bo Diddley\"}, {\"font\": {\"color\": \"#222222\"}, \"id\": \"Muddy Waters\", \"label\": \"Muddy Waters\", \"shape\": \"dot\", \"title\": \"Muddy Waters\"}, {\"font\": {\"color\": \"#222222\"}, \"id\": \"Buddy Guy\", \"image\": \"https://deanbaldwinmusic.com/guitarists/buddyguy.png\", \"label\": \"Buddy Guy\", \"labelHighlightBold\": true, \"shape\": \"image\", \"title\": \"Buddy Guy\"}, {\"font\": {\"color\": \"#222222\"}, \"id\": \"Bully City Red\", \"image\": \"https://deanbaldwinmusic.com/guitarists/bullcityred.png\", \"label\": \"Bully City Red\", \"labelHighlightBold\": true, \"shape\": \"image\", \"title\": \"Bully City Red\"}, {\"font\": {\"color\": \"#222222\"}, \"id\": \"Henry Sloan\", \"label\": \"Henry Sloan\", \"shape\": \"dot\", \"title\": \"Henry Sloan\"}, {\"font\": {\"color\": \"#222222\"}, \"id\": \"Chuck Berry\", \"image\": \"https://deanbaldwinmusic.com/guitarists/chuckberry.png\", \"label\": \"Chuck Berry\", \"labelHighlightBold\": true, \"shape\": \"image\", \"title\": \"Chuck Berry\"}, {\"font\": {\"color\": \"#222222\"}, \"id\": \"David Gilmour\", \"image\": \"https://deanbaldwinmusic.com/guitarists/davidgilmour.png\", \"label\": \"David Gilmour\", \"labelHighlightBold\": true, \"shape\": \"image\", \"title\": \"David Gilmour\"}, {\"font\": {\"color\": \"#222222\"}, \"id\": \"Eric Clapton\", \"label\": \"Eric Clapton\", \"shape\": \"dot\", \"title\": \"Eric Clapton\"}, {\"font\": {\"color\": \"#222222\"}, \"id\": \"Jeff Beck\", \"label\": \"Jeff Beck\", \"shape\": \"dot\", \"title\": \"Jeff Beck\"}, {\"font\": {\"color\": \"#222222\"}, \"id\": \"Jimi Hendrix\", \"label\": \"Jimi Hendrix\", \"shape\": \"dot\", \"title\": \"Jimi Hendrix\"}, {\"font\": {\"color\": \"#222222\"}, \"id\": \"John Fahey\", \"label\": \"John Fahey\", \"shape\": \"dot\", \"title\": \"John Fahey\"}, {\"font\": {\"color\": \"#222222\"}, \"id\": \"Joni Mitchell\", \"label\": \"Joni Mitchell\", \"shape\": \"dot\", \"title\": \"Joni Mitchell\"}, {\"font\": {\"color\": \"#222222\"}, \"id\": \"Lead Belly\", \"label\": \"Lead Belly\", \"shape\": \"dot\", \"title\": \"Lead Belly\"}, {\"font\": {\"color\": \"#222222\"}, \"id\": \"Pete Seeger\", \"label\": \"Pete Seeger\", \"shape\": \"dot\", \"title\": \"Pete Seeger\"}, {\"font\": {\"color\": \"#222222\"}, \"id\": \"Roy Buchanan\", \"label\": \"Roy Buchanan\", \"shape\": \"dot\", \"title\": \"Roy Buchanan\"}, {\"font\": {\"color\": \"#222222\"}, \"id\": \"Dimebag Darrell\", \"image\": \"https://deanbaldwinmusic.com/guitarists/dimebagdarrell.png\", \"label\": \"Dimebag Darrell\", \"labelHighlightBold\": true, \"shape\": \"image\", \"title\": \"Dimebag Darrell\"}, {\"font\": {\"color\": \"#222222\"}, \"id\": \"Eddie Van Halen\", \"label\": \"Eddie Van Halen\", \"shape\": \"dot\", \"title\": \"Eddie Van Halen\"}, {\"font\": {\"color\": \"#222222\"}, \"id\": \"Tony Iommi\", \"label\": \"Tony Iommi\", \"shape\": \"dot\", \"title\": \"Tony Iommi\"}, {\"font\": {\"color\": \"#222222\"}, \"id\": \"Leslie West\", \"label\": \"Leslie West\", \"shape\": \"dot\", \"title\": \"Leslie West\"}, {\"font\": {\"color\": \"#222222\"}, \"id\": \"Kokomo Arnold\", \"label\": \"Kokomo Arnold\", \"shape\": \"dot\", \"title\": \"Kokomo Arnold\"}, {\"font\": {\"color\": \"#222222\"}, \"id\": \"Robert Johnson\", \"label\": \"Robert Johnson\", \"shape\": \"dot\", \"title\": \"Robert Johnson\"}, {\"font\": {\"color\": \"#222222\"}, \"id\": \"Jimmy Rogers\", \"label\": \"Jimmy Rogers\", \"shape\": \"dot\", \"title\": \"Jimmy Rogers\"}, {\"font\": {\"color\": \"#222222\"}, \"id\": \"Rosetta Tharpe\", \"label\": \"Rosetta Tharpe\", \"shape\": \"dot\", \"title\": \"Rosetta Tharpe\"}, {\"font\": {\"color\": \"#222222\"}, \"id\": \"Rufus Thomas\", \"label\": \"Rufus Thomas\", \"shape\": \"dot\", \"title\": \"Rufus Thomas\"}, {\"font\": {\"color\": \"#222222\"}, \"id\": \"Freddie King\", \"label\": \"Freddie King\", \"shape\": \"dot\", \"title\": \"Freddie King\"}, {\"font\": {\"color\": \"#222222\"}, \"id\": \"Hubert Slumin\", \"label\": \"Hubert Slumin\", \"shape\": \"dot\", \"title\": \"Hubert Slumin\"}, {\"font\": {\"color\": \"#222222\"}, \"id\": \"Fiddlin Joe Martin\", \"image\": \"https://deanbaldwinmusic.com/guitarists/fiddlinjoemartin.png\", \"label\": \"Fiddlin Joe Martin\", \"labelHighlightBold\": true, \"shape\": \"image\", \"title\": \"Fiddlin Joe Martin\"}, {\"font\": {\"color\": \"#222222\"}, \"id\": \"Woodrow Adams\", \"label\": \"Woodrow Adams\", \"shape\": \"dot\", \"title\": \"Woodrow Adams\"}, {\"font\": {\"color\": \"#222222\"}, \"id\": \"Floyd Council\", \"image\": \"https://deanbaldwinmusic.com/guitarists/floydcouncil.png\", \"label\": \"Floyd Council\", \"labelHighlightBold\": true, \"shape\": \"image\", \"title\": \"Floyd Council\"}, {\"font\": {\"color\": \"#222222\"}, \"id\": \"Eddie Taylor\", \"label\": \"Eddie Taylor\", \"shape\": \"dot\", \"title\": \"Eddie Taylor\"}, {\"font\": {\"color\": \"#222222\"}, \"id\": \"Robert Lockwood Jr\", \"label\": \"Robert Lockwood Jr\", \"shape\": \"dot\", \"title\": \"Robert Lockwood Jr\"}, {\"font\": {\"color\": \"#222222\"}, \"id\": \"George Lynch\", \"image\": \"https://deanbaldwinmusic.com/guitarists/georgelynch.png\", \"label\": \"George Lynch\", \"labelHighlightBold\": true, \"shape\": \"image\", \"title\": \"George Lynch\"}, {\"font\": {\"color\": \"#222222\"}, \"id\": \"Michael Schenker\", \"label\": \"Michael Schenker\", \"shape\": \"dot\", \"title\": \"Michael Schenker\"}, {\"font\": {\"color\": \"#222222\"}, \"id\": \"Hank Marvin\", \"image\": \"https://deanbaldwinmusic.com/guitarists/hankmarvin.png\", \"label\": \"Hank Marvin\", \"labelHighlightBold\": true, \"shape\": \"image\", \"title\": \"Hank Marvin\"}, {\"font\": {\"color\": \"#222222\"}, \"id\": \"Henry Townshend\", \"image\": \"https://deanbaldwinmusic.com/guitarists/henrytownshend.png\", \"label\": \"Henry Townshend\", \"labelHighlightBold\": true, \"shape\": \"image\", \"title\": \"Henry Townshend\"}, {\"font\": {\"color\": \"#222222\"}, \"id\": \"Houston Stackhouse\", \"image\": \"https://deanbaldwinmusic.com/guitarists/houstonstackhouse.png\", \"label\": \"Houston Stackhouse\", \"labelHighlightBold\": true, \"shape\": \"image\", \"title\": \"Houston Stackhouse\"}, {\"font\": {\"color\": \"#222222\"}, \"id\": \"Howlin Wolf\", \"image\": \"https://deanbaldwinmusic.com/guitarists/howlinwolf.png\", \"label\": \"Howlin Wolf\", \"labelHighlightBold\": true, \"shape\": \"image\", \"title\": \"Howlin Wolf\"}, {\"font\": {\"color\": \"#222222\"}, \"id\": \"Ike Zimmerman\", \"image\": \"https://deanbaldwinmusic.com/guitarists/ikezimmerman.png\", \"label\": \"Ike Zimmerman\", \"labelHighlightBold\": true, \"shape\": \"image\", \"title\": \"Ike Zimmerman\"}, {\"font\": {\"color\": \"#222222\"}, \"id\": \"Jack White\", \"image\": \"https://deanbaldwinmusic.com/guitarists/jackwhite.png\", \"label\": \"Jack White\", \"labelHighlightBold\": true, \"shape\": \"image\", \"title\": \"Jack White\"}, {\"font\": {\"color\": \"#222222\"}, \"id\": \"Jimmy Page\", \"label\": \"Jimmy Page\", \"shape\": \"dot\", \"title\": \"Jimmy Page\"}, {\"font\": {\"color\": \"#222222\"}, \"id\": \"Robby Krieger\", \"label\": \"Robby Krieger\", \"shape\": \"dot\", \"title\": \"Robby Krieger\"}, {\"font\": {\"color\": \"#222222\"}, \"id\": \"Son House\", \"label\": \"Son House\", \"shape\": \"dot\", \"title\": \"Son House\"}, {\"font\": {\"color\": \"#222222\"}, \"id\": \"James Burton\", \"image\": \"https://deanbaldwinmusic.com/guitarists/jamesburton.png\", \"label\": \"James Burton\", \"labelHighlightBold\": true, \"shape\": \"image\", \"title\": \"James Burton\"}, {\"font\": {\"color\": \"#222222\"}, \"id\": \"Les Paul\", \"label\": \"Les Paul\", \"shape\": \"dot\", \"title\": \"Les Paul\"}, {\"font\": {\"color\": \"#222222\"}, \"id\": \"Jennifer Batten\", \"image\": \"https://deanbaldwinmusic.com/guitarists/jenniferbatten.png\", \"label\": \"Jennifer Batten\", \"labelHighlightBold\": true, \"shape\": \"image\", \"title\": \"Jennifer Batten\"}, {\"font\": {\"color\": \"#222222\"}, \"id\": \"Scotty Moore\", \"label\": \"Scotty Moore\", \"shape\": \"dot\", \"title\": \"Scotty Moore\"}, {\"font\": {\"color\": \"#222222\"}, \"id\": \"Tony Hollins\", \"label\": \"Tony Hollins\", \"shape\": \"dot\", \"title\": \"Tony Hollins\"}, {\"font\": {\"color\": \"#222222\"}, \"id\": \"Johnny Shines\", \"image\": \"https://deanbaldwinmusic.com/guitarists/johnnyshines.png\", \"label\": \"Johnny Shines\", \"labelHighlightBold\": true, \"shape\": \"image\", \"title\": \"Johnny Shines\"}, {\"font\": {\"color\": \"#222222\"}, \"id\": \"Johnny Winter\", \"image\": \"https://deanbaldwinmusic.com/guitarists/johnnywinter.png\", \"label\": \"Johnny Winter\", \"labelHighlightBold\": true, \"shape\": \"image\", \"title\": \"Johnny Winter\"}, {\"font\": {\"color\": \"#222222\"}, \"id\": \"Jorma Kaukonen\", \"image\": \"https://deanbaldwinmusic.com/guitarists/jormakaukonen.png\", \"label\": \"Jorma Kaukonen\", \"labelHighlightBold\": true, \"shape\": \"image\", \"title\": \"Jorma Kaukonen\"}, {\"font\": {\"color\": \"#222222\"}, \"id\": \"Keith Richards\", \"image\": \"https://deanbaldwinmusic.com/guitarists/keithrichards.png\", \"label\": \"Keith Richards\", \"labelHighlightBold\": true, \"shape\": \"image\", \"title\": \"Keith Richards\"}, {\"font\": {\"color\": \"#222222\"}, \"id\": \"Larry Carlton\", \"image\": \"https://deanbaldwinmusic.com/guitarists/larrycarlton.png\", \"label\": \"Larry Carlton\", \"labelHighlightBold\": true, \"shape\": \"image\", \"title\": \"Larry Carlton\"}, {\"font\": {\"color\": \"#222222\"}, \"id\": \"Joe Pass\", \"label\": \"Joe Pass\", \"shape\": \"dot\", \"title\": \"Joe Pass\"}, {\"font\": {\"color\": \"#222222\"}, \"id\": \"Wes Montgomery\", \"label\": \"Wes Montgomery\", \"shape\": \"dot\", \"title\": \"Wes Montgomery\"}, {\"font\": {\"color\": \"#222222\"}, \"id\": \"Lee Jackson\", \"image\": \"https://deanbaldwinmusic.com/guitarists/leejackson.png\", \"label\": \"Lee Jackson\", \"labelHighlightBold\": true, \"shape\": \"image\", \"title\": \"Lee Jackson\"}, {\"font\": {\"color\": \"#222222\"}, \"id\": \"Michael Bloomfield\", \"image\": \"https://deanbaldwinmusic.com/guitarists/michaelbloomfield.png\", \"label\": \"Michael Bloomfield\", \"labelHighlightBold\": true, \"shape\": \"image\", \"title\": \"Michael Bloomfield\"}, {\"font\": {\"color\": \"#222222\"}, \"id\": \"Little Richard\", \"label\": \"Little Richard\", \"shape\": \"dot\", \"title\": \"Little Richard\"}, {\"font\": {\"color\": \"#222222\"}, \"id\": \"Otis Rush\", \"label\": \"Otis Rush\", \"shape\": \"dot\", \"title\": \"Otis Rush\"}, {\"font\": {\"color\": \"#222222\"}, \"id\": \"Rory Gallagher\", \"label\": \"Rory Gallagher\", \"shape\": \"dot\", \"title\": \"Rory Gallagher\"}, {\"font\": {\"color\": \"#222222\"}, \"id\": \"Mick Mars\", \"image\": \"https://deanbaldwinmusic.com/guitarists/mickmars.png\", \"label\": \"Mick Mars\", \"labelHighlightBold\": true, \"shape\": \"image\", \"title\": \"Mick Mars\"}, {\"font\": {\"color\": \"#222222\"}, \"id\": \"Pee Wee Crayton\", \"image\": \"https://deanbaldwinmusic.com/guitarists/peewaycrayton.png\", \"label\": \"Pee Wee Crayton\", \"labelHighlightBold\": true, \"shape\": \"image\", \"title\": \"Pee Wee Crayton\"}, {\"font\": {\"color\": \"#222222\"}, \"id\": \"Pink Anderson\", \"image\": \"https://deanbaldwinmusic.com/guitarists/pinkanderson.png\", \"label\": \"Pink Anderson\", \"labelHighlightBold\": true, \"shape\": \"image\", \"title\": \"Pink Anderson\"}, {\"font\": {\"color\": \"#222222\"}, \"id\": \"Ralph McTell\", \"image\": \"https://deanbaldwinmusic.com/guitarists/ralphmctell.png\", \"label\": \"Ralph McTell\", \"labelHighlightBold\": true, \"shape\": \"image\", \"title\": \"Ralph McTell\"}, {\"font\": {\"color\": \"#222222\"}, \"id\": \"Richard Trice\", \"image\": \"https://deanbaldwinmusic.com/guitarists/richardtrice.png\", \"label\": \"Richard Trice\", \"labelHighlightBold\": true, \"shape\": \"image\", \"title\": \"Richard Trice\"}, {\"font\": {\"color\": \"#222222\"}, \"id\": \"Robert Cray\", \"image\": \"https://deanbaldwinmusic.com/guitarists/robertcray.png\", \"label\": \"Robert Cray\", \"labelHighlightBold\": true, \"shape\": \"image\", \"title\": \"Robert Cray\"}, {\"font\": {\"color\": \"#222222\"}, \"id\": \"Robert Nighthawk\", \"image\": \"https://deanbaldwinmusic.com/guitarists/robertnighthawk.png\", \"label\": \"Robert Nighthawk\", \"labelHighlightBold\": true, \"shape\": \"image\", \"title\": \"Robert Nighthawk\"}, {\"font\": {\"color\": \"#222222\"}, \"id\": \"Ry Cooder\", \"image\": \"https://deanbaldwinmusic.com/guitarists/rycooder.png\", \"label\": \"Ry Cooder\", \"labelHighlightBold\": true, \"shape\": \"image\", \"title\": \"Ry Cooder\"}, {\"font\": {\"color\": \"#222222\"}, \"id\": \"Sammy Lawhorne\", \"image\": \"https://deanbaldwinmusic.com/guitarists/sammylawhorne.png\", \"label\": \"Sammy Lawhorne\", \"labelHighlightBold\": true, \"shape\": \"image\", \"title\": \"Sammy Lawhorne\"}, {\"font\": {\"color\": \"#222222\"}, \"id\": \"Sonny Boy Williamson\", \"label\": \"Sonny Boy Williamson\", \"shape\": \"dot\", \"title\": \"Sonny Boy Williamson\"}, {\"font\": {\"color\": \"#222222\"}, \"id\": \"Rube Lacey\", \"label\": \"Rube Lacey\", \"shape\": \"dot\", \"title\": \"Rube Lacey\"}, {\"font\": {\"color\": \"#222222\"}, \"id\": \"Stevie Ray Vaughan\", \"image\": \"https://deanbaldwinmusic.com/guitarists/stevierayvaughan.png\", \"label\": \"Stevie Ray Vaughan\", \"labelHighlightBold\": true, \"shape\": \"image\", \"title\": \"Stevie Ray Vaughan\"}, {\"font\": {\"color\": \"#222222\"}, \"id\": \"Tommy Johnson\", \"image\": \"https://deanbaldwinmusic.com/guitarists/tommyjohnson.png\", \"label\": \"Tommy Johnson\", \"labelHighlightBold\": true, \"shape\": \"image\", \"title\": \"Tommy Johnson\"}, {\"font\": {\"color\": \"#222222\"}, \"id\": \"Willie Brown\", \"image\": \"http://iconbug.com/data/c8/256/1539982e14371b0c18a976ce0d2c6483.png\", \"label\": \"Willie Brown\", \"labelHighlightBold\": true, \"shape\": \"image\", \"title\": \"Willie Brown\"}, {\"font\": {\"color\": \"#222222\"}, \"id\": \"Willie Dixon\", \"image\": \"https://deanbaldwinmusic.com/guitarists/williedixon.png\", \"label\": \"Willie Dixon\", \"labelHighlightBold\": true, \"shape\": \"image\", \"title\": \"Willie Dixon\"}, {\"font\": {\"color\": \"#222222\"}, \"id\": \"Lita Ford\", \"image\": \"https://deanbaldwinmusic.com/guitarists/litaford.png\", \"label\": \"Lita Ford\", \"labelHighlightBold\": true, \"shape\": \"image\", \"title\": \"Lita Ford\"}, {\"font\": {\"color\": \"#222222\"}, \"id\": \"Ritchie Blackmore\", \"label\": \"Ritchie Blackmore\", \"shape\": \"dot\", \"title\": \"Ritchie Blackmore\"}]);\n",
              "        edges = new vis.DataSet([{\"arrowStrikethrough\": false, \"from\": \"Albert Collins\", \"title\": \"\\u003cb\\u003eAlbert Collins\\u003c/b\\u003e\\u003c/br\\u003ewas infuenced by\\u003c/br\\u003eJohn Lee Hooker\", \"to\": \"John Lee Hooker\", \"value\": 3}, {\"arrowStrikethrough\": false, \"from\": \"Albert Collins\", \"title\": \"\\u003cb\\u003eAlbert Collins\\u003c/b\\u003e\\u003c/br\\u003ewas infuenced by\\u003c/br\\u003eLightnin Hopkins\", \"to\": \"Lightnin Hopkins\", \"value\": 3}, {\"arrowStrikethrough\": false, \"from\": \"Albert King\", \"title\": \"\\u003cb\\u003eAlbert King\\u003c/b\\u003e\\u003c/br\\u003ewas infuenced by\\u003c/br\\u003eBlind Lemon Jefferson\", \"to\": \"Blind Lemon Jefferson\", \"value\": 9}, {\"arrowStrikethrough\": false, \"from\": \"Albert King\", \"title\": \"\\u003cb\\u003eAlbert King\\u003c/b\\u003e\\u003c/br\\u003ewas infuenced by\\u003c/br\\u003eElmore James\", \"to\": \"Elmore James\", \"value\": 5}, {\"arrowStrikethrough\": false, \"from\": \"Albert King\", \"title\": \"\\u003cb\\u003eAlbert King\\u003c/b\\u003e\\u003c/br\\u003ewas infuenced by\\u003c/br\\u003eLonnie Johnson\", \"to\": \"Lonnie Johnson\", \"value\": 6}, {\"arrowStrikethrough\": false, \"from\": \"Arthur Crudup\", \"title\": \"\\u003cb\\u003eArthur Crudup\\u003c/b\\u003e\\u003c/br\\u003ewas infuenced by\\u003c/br\\u003eunavailable\", \"to\": \"unavailable\", \"value\": 1}, {\"arrowStrikethrough\": false, \"from\": \"B.B. King\", \"title\": \"\\u003cb\\u003eB.B. King\\u003c/b\\u003e\\u003c/br\\u003ewas infuenced by\\u003c/br\\u003eBukka White\", \"to\": \"Bukka White\", \"value\": 11}, {\"arrowStrikethrough\": false, \"from\": \"B.B. King\", \"title\": \"\\u003cb\\u003eB.B. King\\u003c/b\\u003e\\u003c/br\\u003ewas infuenced by\\u003c/br\\u003eT-bone Walker\", \"to\": \"T-bone Walker\", \"value\": 13}, {\"arrowStrikethrough\": false, \"from\": \"Barney Kessel\", \"title\": \"\\u003cb\\u003eBarney Kessel\\u003c/b\\u003e\\u003c/br\\u003ewas infuenced by\\u003c/br\\u003eCharlie Christian\", \"to\": \"Charlie Christian\", \"value\": 3}, {\"arrowStrikethrough\": false, \"from\": \"Big Bill Broonzy\", \"title\": \"\\u003cb\\u003eBig Bill Broonzy\\u003c/b\\u003e\\u003c/br\\u003ewas infuenced by\\u003c/br\\u003eBlind Blake\", \"to\": \"Blind Blake\", \"value\": 9}, {\"arrowStrikethrough\": false, \"from\": \"Big Bill Broonzy\", \"title\": \"\\u003cb\\u003eBig Bill Broonzy\\u003c/b\\u003e\\u003c/br\\u003ewas infuenced by\\u003c/br\\u003eTampa Red\", \"to\": \"Tampa Red\", \"value\": 6}, {\"arrowStrikethrough\": false, \"from\": \"Big Joe Williams\", \"title\": \"\\u003cb\\u003eBig Joe Williams\\u003c/b\\u003e\\u003c/br\\u003ewas infuenced by\\u003c/br\\u003eCharley Patton\", \"to\": \"Charley Patton\", \"value\": 4}, {\"arrowStrikethrough\": false, \"from\": \"Billy Gibbons\", \"title\": \"\\u003cb\\u003eBilly Gibbons\\u003c/b\\u003e\\u003c/br\\u003ewas infuenced by\\u003c/br\\u003eB.B. King\", \"to\": \"B.B. King\", \"value\": 9}, {\"arrowStrikethrough\": false, \"from\": \"Billy Gibbons\", \"title\": \"\\u003cb\\u003eBilly Gibbons\\u003c/b\\u003e\\u003c/br\\u003ewas infuenced by\\u003c/br\\u003eElvis Presley\", \"to\": \"Elvis Presley\", \"value\": 2}, {\"arrowStrikethrough\": false, \"from\": \"Billy Gibbons\", \"title\": \"\\u003cb\\u003eBilly Gibbons\\u003c/b\\u003e\\u003c/br\\u003ewas infuenced by\\u003c/br\\u003eJimmy Reed\", \"to\": \"Jimmy Reed\", \"value\": 2}, {\"arrowStrikethrough\": false, \"from\": \"Blind Blake\", \"title\": \"\\u003cb\\u003eBlind Blake\\u003c/b\\u003e\\u003c/br\\u003ewas infuenced by\\u003c/br\\u003eunavailable\", \"to\": \"unavailable\", \"value\": 8}, {\"arrowStrikethrough\": false, \"from\": \"Blind Boy Fuller\", \"title\": \"\\u003cb\\u003eBlind Boy Fuller\\u003c/b\\u003e\\u003c/br\\u003ewas infuenced by\\u003c/br\\u003eBlind Blake\", \"to\": \"Blind Blake\", \"value\": 11}, {\"arrowStrikethrough\": false, \"from\": \"Blind Boy Fuller\", \"title\": \"\\u003cb\\u003eBlind Boy Fuller\\u003c/b\\u003e\\u003c/br\\u003ewas infuenced by\\u003c/br\\u003eBlind Gary Davis\", \"to\": \"Blind Gary Davis\", \"value\": 5}, {\"arrowStrikethrough\": false, \"from\": \"Blind Gary Davis\", \"title\": \"\\u003cb\\u003eBlind Gary Davis\\u003c/b\\u003e\\u003c/br\\u003ewas infuenced by\\u003c/br\\u003eBlind Blake\", \"to\": \"Blind Blake\", \"value\": 10}, {\"arrowStrikethrough\": false, \"from\": \"Blind Gary Davis\", \"title\": \"\\u003cb\\u003eBlind Gary Davis\\u003c/b\\u003e\\u003c/br\\u003ewas infuenced by\\u003c/br\\u003eBlind Simmie Dooley\", \"to\": \"Blind Simmie Dooley\", \"value\": 4}, {\"arrowStrikethrough\": false, \"from\": \"Blind Lemon Jefferson\", \"title\": \"\\u003cb\\u003eBlind Lemon Jefferson\\u003c/b\\u003e\\u003c/br\\u003ewas infuenced by\\u003c/br\\u003eunavailable\", \"to\": \"unavailable\", \"value\": 5}, {\"arrowStrikethrough\": false, \"from\": \"Blind Simmie Dooley\", \"title\": \"\\u003cb\\u003eBlind Simmie Dooley\\u003c/b\\u003e\\u003c/br\\u003ewas infuenced by\\u003c/br\\u003eunavailable\", \"to\": \"unavailable\", \"value\": 2}, {\"arrowStrikethrough\": false, \"from\": \"Blind Willie Johnson\", \"title\": \"\\u003cb\\u003eBlind Willie Johnson\\u003c/b\\u003e\\u003c/br\\u003ewas infuenced by\\u003c/br\\u003eMadkin Butler\", \"to\": \"Madkin Butler\", \"value\": 5}, {\"arrowStrikethrough\": false, \"from\": \"Blind Willie McTell\", \"title\": \"\\u003cb\\u003eBlind Willie McTell\\u003c/b\\u003e\\u003c/br\\u003ewas infuenced by\\u003c/br\\u003eunavailable\", \"to\": \"unavailable\", \"value\": 2}, {\"arrowStrikethrough\": false, \"from\": \"Bo Diddley\", \"title\": \"\\u003cb\\u003eBo Diddley\\u003c/b\\u003e\\u003c/br\\u003ewas infuenced by\\u003c/br\\u003eJohn Lee Hooker\", \"to\": \"John Lee Hooker\", \"value\": 2}, {\"arrowStrikethrough\": false, \"from\": \"Bo Diddley\", \"title\": \"\\u003cb\\u003eBo Diddley\\u003c/b\\u003e\\u003c/br\\u003ewas infuenced by\\u003c/br\\u003eMuddy Waters\", \"to\": \"Muddy Waters\", \"value\": 7}, {\"arrowStrikethrough\": false, \"from\": \"Buddy Guy\", \"title\": \"\\u003cb\\u003eBuddy Guy\\u003c/b\\u003e\\u003c/br\\u003ewas infuenced by\\u003c/br\\u003eunavailable\", \"to\": \"unavailable\", \"value\": 1}, {\"arrowStrikethrough\": false, \"from\": \"Bukka White\", \"title\": \"\\u003cb\\u003eBukka White\\u003c/b\\u003e\\u003c/br\\u003ewas infuenced by\\u003c/br\\u003eCharley Patton\", \"to\": \"Charley Patton\", \"value\": 5}, {\"arrowStrikethrough\": false, \"from\": \"Bully City Red\", \"title\": \"\\u003cb\\u003eBully City Red\\u003c/b\\u003e\\u003c/br\\u003ewas infuenced by\\u003c/br\\u003eBlind Boy Fuller\", \"to\": \"Blind Boy Fuller\", \"value\": 3}, {\"arrowStrikethrough\": false, \"from\": \"Bully City Red\", \"title\": \"\\u003cb\\u003eBully City Red\\u003c/b\\u003e\\u003c/br\\u003ewas infuenced by\\u003c/br\\u003eT-bone Walker\", \"to\": \"T-bone Walker\", \"value\": 4}, {\"arrowStrikethrough\": false, \"from\": \"Charley Patton\", \"title\": \"\\u003cb\\u003eCharley Patton\\u003c/b\\u003e\\u003c/br\\u003ewas infuenced by\\u003c/br\\u003eHenry Sloan\", \"to\": \"Henry Sloan\", \"value\": 4}, {\"arrowStrikethrough\": false, \"from\": \"Charlie Christian\", \"title\": \"\\u003cb\\u003eCharlie Christian\\u003c/b\\u003e\\u003c/br\\u003ewas infuenced by\\u003c/br\\u003eunavailable\", \"to\": \"unavailable\", \"value\": 2}, {\"arrowStrikethrough\": false, \"from\": \"Chuck Berry\", \"title\": \"\\u003cb\\u003eChuck Berry\\u003c/b\\u003e\\u003c/br\\u003ewas infuenced by\\u003c/br\\u003eT-bone Walker\", \"to\": \"T-bone Walker\", \"value\": 5}, {\"arrowStrikethrough\": false, \"from\": \"David Gilmour\", \"title\": \"\\u003cb\\u003eDavid Gilmour\\u003c/b\\u003e\\u003c/br\\u003ewas infuenced by\\u003c/br\\u003eEric Clapton\", \"to\": \"Eric Clapton\", \"value\": 6}, {\"arrowStrikethrough\": false, \"from\": \"David Gilmour\", \"title\": \"\\u003cb\\u003eDavid Gilmour\\u003c/b\\u003e\\u003c/br\\u003ewas infuenced by\\u003c/br\\u003eJeff Beck\", \"to\": \"Jeff Beck\", \"value\": 7}, {\"arrowStrikethrough\": false, \"from\": \"David Gilmour\", \"title\": \"\\u003cb\\u003eDavid Gilmour\\u003c/b\\u003e\\u003c/br\\u003ewas infuenced by\\u003c/br\\u003eJimi Hendrix\", \"to\": \"Jimi Hendrix\", \"value\": 5}, {\"arrowStrikethrough\": false, \"from\": \"David Gilmour\", \"title\": \"\\u003cb\\u003eDavid Gilmour\\u003c/b\\u003e\\u003c/br\\u003ewas infuenced by\\u003c/br\\u003eJohn Fahey\", \"to\": \"John Fahey\", \"value\": 2}, {\"arrowStrikethrough\": false, \"from\": \"David Gilmour\", \"title\": \"\\u003cb\\u003eDavid Gilmour\\u003c/b\\u003e\\u003c/br\\u003ewas infuenced by\\u003c/br\\u003eJoni Mitchell\", \"to\": \"Joni Mitchell\", \"value\": 2}, {\"arrowStrikethrough\": false, \"from\": \"David Gilmour\", \"title\": \"\\u003cb\\u003eDavid Gilmour\\u003c/b\\u003e\\u003c/br\\u003ewas infuenced by\\u003c/br\\u003eLead Belly\", \"to\": \"Lead Belly\", \"value\": 3}, {\"arrowStrikethrough\": false, \"from\": \"David Gilmour\", \"title\": \"\\u003cb\\u003eDavid Gilmour\\u003c/b\\u003e\\u003c/br\\u003ewas infuenced by\\u003c/br\\u003ePete Seeger\", \"to\": \"Pete Seeger\", \"value\": 2}, {\"arrowStrikethrough\": false, \"from\": \"David Gilmour\", \"title\": \"\\u003cb\\u003eDavid Gilmour\\u003c/b\\u003e\\u003c/br\\u003ewas infuenced by\\u003c/br\\u003eRoy Buchanan\", \"to\": \"Roy Buchanan\", \"value\": 2}, {\"arrowStrikethrough\": false, \"from\": \"Dimebag Darrell\", \"title\": \"\\u003cb\\u003eDimebag Darrell\\u003c/b\\u003e\\u003c/br\\u003ewas infuenced by\\u003c/br\\u003eEddie Van Halen\", \"to\": \"Eddie Van Halen\", \"value\": 2}, {\"arrowStrikethrough\": false, \"from\": \"Dimebag Darrell\", \"title\": \"\\u003cb\\u003eDimebag Darrell\\u003c/b\\u003e\\u003c/br\\u003ewas infuenced by\\u003c/br\\u003eTony Iommi\", \"to\": \"Tony Iommi\", \"value\": 1}, {\"arrowStrikethrough\": false, \"from\": \"Eddie Van Halen\", \"title\": \"\\u003cb\\u003eEddie Van Halen\\u003c/b\\u003e\\u003c/br\\u003ewas infuenced by\\u003c/br\\u003eEric Clapton\", \"to\": \"Eric Clapton\", \"value\": 7}, {\"arrowStrikethrough\": false, \"from\": \"Eddie Van Halen\", \"title\": \"\\u003cb\\u003eEddie Van Halen\\u003c/b\\u003e\\u003c/br\\u003ewas infuenced by\\u003c/br\\u003eLeslie West\", \"to\": \"Leslie West\", \"value\": 4}, {\"arrowStrikethrough\": false, \"from\": \"Elmore James\", \"title\": \"\\u003cb\\u003eElmore James\\u003c/b\\u003e\\u003c/br\\u003ewas infuenced by\\u003c/br\\u003eKokomo Arnold\", \"to\": \"Kokomo Arnold\", \"value\": 2}, {\"arrowStrikethrough\": false, \"from\": \"Elmore James\", \"title\": \"\\u003cb\\u003eElmore James\\u003c/b\\u003e\\u003c/br\\u003ewas infuenced by\\u003c/br\\u003eRobert Johnson\", \"to\": \"Robert Johnson\", \"value\": 9}, {\"arrowStrikethrough\": false, \"from\": \"Elmore James\", \"title\": \"\\u003cb\\u003eElmore James\\u003c/b\\u003e\\u003c/br\\u003ewas infuenced by\\u003c/br\\u003eTampa Red\", \"to\": \"Tampa Red\", \"value\": 6}, {\"arrowStrikethrough\": false, \"from\": \"Elvis Presley\", \"title\": \"\\u003cb\\u003eElvis Presley\\u003c/b\\u003e\\u003c/br\\u003ewas infuenced by\\u003c/br\\u003eArthur Crudup\", \"to\": \"Arthur Crudup\", \"value\": 3}, {\"arrowStrikethrough\": false, \"from\": \"Elvis Presley\", \"title\": \"\\u003cb\\u003eElvis Presley\\u003c/b\\u003e\\u003c/br\\u003ewas infuenced by\\u003c/br\\u003eJimmy Rogers\", \"to\": \"Jimmy Rogers\", \"value\": 4}, {\"arrowStrikethrough\": false, \"from\": \"Elvis Presley\", \"title\": \"\\u003cb\\u003eElvis Presley\\u003c/b\\u003e\\u003c/br\\u003ewas infuenced by\\u003c/br\\u003eRosetta Tharpe\", \"to\": \"Rosetta Tharpe\", \"value\": 6}, {\"arrowStrikethrough\": false, \"from\": \"Elvis Presley\", \"title\": \"\\u003cb\\u003eElvis Presley\\u003c/b\\u003e\\u003c/br\\u003ewas infuenced by\\u003c/br\\u003eRufus Thomas\", \"to\": \"Rufus Thomas\", \"value\": 3}, {\"arrowStrikethrough\": false, \"from\": \"Eric Clapton\", \"title\": \"\\u003cb\\u003eEric Clapton\\u003c/b\\u003e\\u003c/br\\u003ewas infuenced by\\u003c/br\\u003eAlbert King\", \"to\": \"Albert King\", \"value\": 9}, {\"arrowStrikethrough\": false, \"from\": \"Eric Clapton\", \"title\": \"\\u003cb\\u003eEric Clapton\\u003c/b\\u003e\\u003c/br\\u003ewas infuenced by\\u003c/br\\u003eB.B. King\", \"to\": \"B.B. King\", \"value\": 14}, {\"arrowStrikethrough\": false, \"from\": \"Eric Clapton\", \"title\": \"\\u003cb\\u003eEric Clapton\\u003c/b\\u003e\\u003c/br\\u003ewas infuenced by\\u003c/br\\u003eBuddy Guy\", \"to\": \"Buddy Guy\", \"value\": 6}, {\"arrowStrikethrough\": false, \"from\": \"Eric Clapton\", \"title\": \"\\u003cb\\u003eEric Clapton\\u003c/b\\u003e\\u003c/br\\u003ewas infuenced by\\u003c/br\\u003eFreddie King\", \"to\": \"Freddie King\", \"value\": 7}, {\"arrowStrikethrough\": false, \"from\": \"Eric Clapton\", \"title\": \"\\u003cb\\u003eEric Clapton\\u003c/b\\u003e\\u003c/br\\u003ewas infuenced by\\u003c/br\\u003eHubert Slumin\", \"to\": \"Hubert Slumin\", \"value\": 6}, {\"arrowStrikethrough\": false, \"from\": \"Eric Clapton\", \"title\": \"\\u003cb\\u003eEric Clapton\\u003c/b\\u003e\\u003c/br\\u003ewas infuenced by\\u003c/br\\u003eMuddy Waters\", \"to\": \"Muddy Waters\", \"value\": 12}, {\"arrowStrikethrough\": false, \"from\": \"Eric Clapton\", \"title\": \"\\u003cb\\u003eEric Clapton\\u003c/b\\u003e\\u003c/br\\u003ewas infuenced by\\u003c/br\\u003eRobert Johnson\", \"to\": \"Robert Johnson\", \"value\": 13}, {\"arrowStrikethrough\": false, \"from\": \"Eric Clapton\", \"title\": \"\\u003cb\\u003eEric Clapton\\u003c/b\\u003e\\u003c/br\\u003ewas infuenced by\\u003c/br\\u003eRosetta Tharpe\", \"to\": \"Rosetta Tharpe\", \"value\": 9}, {\"arrowStrikethrough\": false, \"from\": \"Fiddlin Joe Martin\", \"title\": \"\\u003cb\\u003eFiddlin Joe Martin\\u003c/b\\u003e\\u003c/br\\u003ewas infuenced by\\u003c/br\\u003eWoodrow Adams\", \"to\": \"Woodrow Adams\", \"value\": 1}, {\"arrowStrikethrough\": false, \"from\": \"Floyd Council\", \"title\": \"\\u003cb\\u003eFloyd Council\\u003c/b\\u003e\\u003c/br\\u003ewas infuenced by\\u003c/br\\u003eBlind Boy Fuller\", \"to\": \"Blind Boy Fuller\", \"value\": 3}, {\"arrowStrikethrough\": false, \"from\": \"Freddie King\", \"title\": \"\\u003cb\\u003eFreddie King\\u003c/b\\u003e\\u003c/br\\u003ewas infuenced by\\u003c/br\\u003eEddie Taylor\", \"to\": \"Eddie Taylor\", \"value\": 3}, {\"arrowStrikethrough\": false, \"from\": \"Freddie King\", \"title\": \"\\u003cb\\u003eFreddie King\\u003c/b\\u003e\\u003c/br\\u003ewas infuenced by\\u003c/br\\u003eJimmy Rogers\", \"to\": \"Jimmy Rogers\", \"value\": 4}, {\"arrowStrikethrough\": false, \"from\": \"Freddie King\", \"title\": \"\\u003cb\\u003eFreddie King\\u003c/b\\u003e\\u003c/br\\u003ewas infuenced by\\u003c/br\\u003eRobert Lockwood Jr\", \"to\": \"Robert Lockwood Jr\", \"value\": 3}, {\"arrowStrikethrough\": false, \"from\": \"George Lynch\", \"title\": \"\\u003cb\\u003eGeorge Lynch\\u003c/b\\u003e\\u003c/br\\u003ewas infuenced by\\u003c/br\\u003eEddie Van Halen\", \"to\": \"Eddie Van Halen\", \"value\": 2}, {\"arrowStrikethrough\": false, \"from\": \"George Lynch\", \"title\": \"\\u003cb\\u003eGeorge Lynch\\u003c/b\\u003e\\u003c/br\\u003ewas infuenced by\\u003c/br\\u003eJeff Beck\", \"to\": \"Jeff Beck\", \"value\": 6}, {\"arrowStrikethrough\": false, \"from\": \"George Lynch\", \"title\": \"\\u003cb\\u003eGeorge Lynch\\u003c/b\\u003e\\u003c/br\\u003ewas infuenced by\\u003c/br\\u003eMichael Schenker\", \"to\": \"Michael Schenker\", \"value\": 1}, {\"arrowStrikethrough\": false, \"from\": \"Hank Marvin\", \"title\": \"\\u003cb\\u003eHank Marvin\\u003c/b\\u003e\\u003c/br\\u003ewas infuenced by\\u003c/br\\u003eunavailable\", \"to\": \"unavailable\", \"value\": 1}, {\"arrowStrikethrough\": false, \"from\": \"Henry Sloan\", \"title\": \"\\u003cb\\u003eHenry Sloan\\u003c/b\\u003e\\u003c/br\\u003ewas infuenced by\\u003c/br\\u003eunavailable\", \"to\": \"unavailable\", \"value\": 1}, {\"arrowStrikethrough\": false, \"from\": \"Henry Townshend\", \"title\": \"\\u003cb\\u003eHenry Townshend\\u003c/b\\u003e\\u003c/br\\u003ewas infuenced by\\u003c/br\\u003eunavailable\", \"to\": \"unavailable\", \"value\": 0}, {\"arrowStrikethrough\": false, \"from\": \"Houston Stackhouse\", \"title\": \"\\u003cb\\u003eHouston Stackhouse\\u003c/b\\u003e\\u003c/br\\u003ewas infuenced by\\u003c/br\\u003eBlind Blake\", \"to\": \"Blind Blake\", \"value\": 11}, {\"arrowStrikethrough\": false, \"from\": \"Houston Stackhouse\", \"title\": \"\\u003cb\\u003eHouston Stackhouse\\u003c/b\\u003e\\u003c/br\\u003ewas infuenced by\\u003c/br\\u003eBlind Lemon Jefferson\", \"to\": \"Blind Lemon Jefferson\", \"value\": 8}, {\"arrowStrikethrough\": false, \"from\": \"Houston Stackhouse\", \"title\": \"\\u003cb\\u003eHouston Stackhouse\\u003c/b\\u003e\\u003c/br\\u003ewas infuenced by\\u003c/br\\u003eLonnie Johnson\", \"to\": \"Lonnie Johnson\", \"value\": 5}, {\"arrowStrikethrough\": false, \"from\": \"Howlin Wolf\", \"title\": \"\\u003cb\\u003eHowlin Wolf\\u003c/b\\u003e\\u003c/br\\u003ewas infuenced by\\u003c/br\\u003eBlind Willie Johnson\", \"to\": \"Blind Willie Johnson\", \"value\": 7}, {\"arrowStrikethrough\": false, \"from\": \"Hubert Slumin\", \"title\": \"\\u003cb\\u003eHubert Slumin\\u003c/b\\u003e\\u003c/br\\u003ewas infuenced by\\u003c/br\\u003eHowlin Wolf\", \"to\": \"Howlin Wolf\", \"value\": 4}, {\"arrowStrikethrough\": false, \"from\": \"Ike Zimmerman\", \"title\": \"\\u003cb\\u003eIke Zimmerman\\u003c/b\\u003e\\u003c/br\\u003ewas infuenced by\\u003c/br\\u003eunavailable\", \"to\": \"unavailable\", \"value\": 1}, {\"arrowStrikethrough\": false, \"from\": \"Jack White\", \"title\": \"\\u003cb\\u003eJack White\\u003c/b\\u003e\\u003c/br\\u003ewas infuenced by\\u003c/br\\u003eBlind Willie McTell\", \"to\": \"Blind Willie McTell\", \"value\": 2}, {\"arrowStrikethrough\": false, \"from\": \"Jack White\", \"title\": \"\\u003cb\\u003eJack White\\u003c/b\\u003e\\u003c/br\\u003ewas infuenced by\\u003c/br\\u003eDavid Gilmour\", \"to\": \"David Gilmour\", \"value\": 1}, {\"arrowStrikethrough\": false, \"from\": \"Jack White\", \"title\": \"\\u003cb\\u003eJack White\\u003c/b\\u003e\\u003c/br\\u003ewas infuenced by\\u003c/br\\u003eJimmy Page\", \"to\": \"Jimmy Page\", \"value\": 2}, {\"arrowStrikethrough\": false, \"from\": \"Jack White\", \"title\": \"\\u003cb\\u003eJack White\\u003c/b\\u003e\\u003c/br\\u003ewas infuenced by\\u003c/br\\u003eRobby Krieger\", \"to\": \"Robby Krieger\", \"value\": 1}, {\"arrowStrikethrough\": false, \"from\": \"Jack White\", \"title\": \"\\u003cb\\u003eJack White\\u003c/b\\u003e\\u003c/br\\u003ewas infuenced by\\u003c/br\\u003eSon House\", \"to\": \"Son House\", \"value\": 2}, {\"arrowStrikethrough\": false, \"from\": \"James Burton\", \"title\": \"\\u003cb\\u003eJames Burton\\u003c/b\\u003e\\u003c/br\\u003ewas infuenced by\\u003c/br\\u003eunavailable\", \"to\": \"unavailable\", \"value\": 1}, {\"arrowStrikethrough\": false, \"from\": \"Jeff Beck\", \"title\": \"\\u003cb\\u003eJeff Beck\\u003c/b\\u003e\\u003c/br\\u003ewas infuenced by\\u003c/br\\u003eB.B. King\", \"to\": \"B.B. King\", \"value\": 15}, {\"arrowStrikethrough\": false, \"from\": \"Jeff Beck\", \"title\": \"\\u003cb\\u003eJeff Beck\\u003c/b\\u003e\\u003c/br\\u003ewas infuenced by\\u003c/br\\u003eLes Paul\", \"to\": \"Les Paul\", \"value\": 7}, {\"arrowStrikethrough\": false, \"from\": \"Jeff Beck\", \"title\": \"\\u003cb\\u003eJeff Beck\\u003c/b\\u003e\\u003c/br\\u003ewas infuenced by\\u003c/br\\u003eRosetta Tharpe\", \"to\": \"Rosetta Tharpe\", \"value\": 10}, {\"arrowStrikethrough\": false, \"from\": \"Jennifer Batten\", \"title\": \"\\u003cb\\u003eJennifer Batten\\u003c/b\\u003e\\u003c/br\\u003ewas infuenced by\\u003c/br\\u003eB.B. King\", \"to\": \"B.B. King\", \"value\": 9}, {\"arrowStrikethrough\": false, \"from\": \"Jennifer Batten\", \"title\": \"\\u003cb\\u003eJennifer Batten\\u003c/b\\u003e\\u003c/br\\u003ewas infuenced by\\u003c/br\\u003eLightnin Hopkins\", \"to\": \"Lightnin Hopkins\", \"value\": 2}, {\"arrowStrikethrough\": false, \"from\": \"Jennifer Batten\", \"title\": \"\\u003cb\\u003eJennifer Batten\\u003c/b\\u003e\\u003c/br\\u003ewas infuenced by\\u003c/br\\u003eJeff Beck\", \"to\": \"Jeff Beck\", \"value\": 6}, {\"arrowStrikethrough\": false, \"from\": \"Jimi Hendrix\", \"title\": \"\\u003cb\\u003eJimi Hendrix\\u003c/b\\u003e\\u003c/br\\u003ewas infuenced by\\u003c/br\\u003eB.B. King\", \"to\": \"B.B. King\", \"value\": 13}, {\"arrowStrikethrough\": false, \"from\": \"Jimi Hendrix\", \"title\": \"\\u003cb\\u003eJimi Hendrix\\u003c/b\\u003e\\u003c/br\\u003ewas infuenced by\\u003c/br\\u003eHowlin Wolf\", \"to\": \"Howlin Wolf\", \"value\": 7}, {\"arrowStrikethrough\": false, \"from\": \"Jimi Hendrix\", \"title\": \"\\u003cb\\u003eJimi Hendrix\\u003c/b\\u003e\\u003c/br\\u003ewas infuenced by\\u003c/br\\u003eMuddy Waters\", \"to\": \"Muddy Waters\", \"value\": 11}, {\"arrowStrikethrough\": false, \"from\": \"Jimi Hendrix\", \"title\": \"\\u003cb\\u003eJimi Hendrix\\u003c/b\\u003e\\u003c/br\\u003ewas infuenced by\\u003c/br\\u003eRobert Johnson\", \"to\": \"Robert Johnson\", \"value\": 12}, {\"arrowStrikethrough\": false, \"from\": \"Jimmy Page\", \"title\": \"\\u003cb\\u003eJimmy Page\\u003c/b\\u003e\\u003c/br\\u003ewas infuenced by\\u003c/br\\u003eElvis Presley\", \"to\": \"Elvis Presley\", \"value\": 4}, {\"arrowStrikethrough\": false, \"from\": \"Jimmy Page\", \"title\": \"\\u003cb\\u003eJimmy Page\\u003c/b\\u003e\\u003c/br\\u003ewas infuenced by\\u003c/br\\u003eJames Burton\", \"to\": \"James Burton\", \"value\": 3}, {\"arrowStrikethrough\": false, \"from\": \"Jimmy Page\", \"title\": \"\\u003cb\\u003eJimmy Page\\u003c/b\\u003e\\u003c/br\\u003ewas infuenced by\\u003c/br\\u003eScotty Moore\", \"to\": \"Scotty Moore\", \"value\": 4}, {\"arrowStrikethrough\": false, \"from\": \"Jimmy Rogers\", \"title\": \"\\u003cb\\u003eJimmy Rogers\\u003c/b\\u003e\\u003c/br\\u003ewas infuenced by\\u003c/br\\u003eHouston Stackhouse\", \"to\": \"Houston Stackhouse\", \"value\": 5}, {\"arrowStrikethrough\": false, \"from\": \"John Fahey\", \"title\": \"\\u003cb\\u003eJohn Fahey\\u003c/b\\u003e\\u003c/br\\u003ewas infuenced by\\u003c/br\\u003eBlind Blake\", \"to\": \"Blind Blake\", \"value\": 9}, {\"arrowStrikethrough\": false, \"from\": \"John Fahey\", \"title\": \"\\u003cb\\u003eJohn Fahey\\u003c/b\\u003e\\u003c/br\\u003ewas infuenced by\\u003c/br\\u003eBlind Willie Johnson\", \"to\": \"Blind Willie Johnson\", \"value\": 5}, {\"arrowStrikethrough\": false, \"from\": \"John Fahey\", \"title\": \"\\u003cb\\u003eJohn Fahey\\u003c/b\\u003e\\u003c/br\\u003ewas infuenced by\\u003c/br\\u003eBukka White\", \"to\": \"Bukka White\", \"value\": 3}, {\"arrowStrikethrough\": false, \"from\": \"John Lee Hooker\", \"title\": \"\\u003cb\\u003eJohn Lee Hooker\\u003c/b\\u003e\\u003c/br\\u003ewas infuenced by\\u003c/br\\u003eTony Hollins\", \"to\": \"Tony Hollins\", \"value\": 3}, {\"arrowStrikethrough\": false, \"from\": \"Johnny Shines\", \"title\": \"\\u003cb\\u003eJohnny Shines\\u003c/b\\u003e\\u003c/br\\u003ewas infuenced by\\u003c/br\\u003eunavailable\", \"to\": \"unavailable\", \"value\": 0}, {\"arrowStrikethrough\": false, \"from\": \"Johnny Winter\", \"title\": \"\\u003cb\\u003eJohnny Winter\\u003c/b\\u003e\\u003c/br\\u003ewas infuenced by\\u003c/br\\u003eMuddy Waters\", \"to\": \"Muddy Waters\", \"value\": 8}, {\"arrowStrikethrough\": false, \"from\": \"Johnny Winter\", \"title\": \"\\u003cb\\u003eJohnny Winter\\u003c/b\\u003e\\u003c/br\\u003ewas infuenced by\\u003c/br\\u003eRobert Johnson\", \"to\": \"Robert Johnson\", \"value\": 9}, {\"arrowStrikethrough\": false, \"from\": \"Johnny Winter\", \"title\": \"\\u003cb\\u003eJohnny Winter\\u003c/b\\u003e\\u003c/br\\u003ewas infuenced by\\u003c/br\\u003eJimi Hendrix\", \"to\": \"Jimi Hendrix\", \"value\": 5}, {\"arrowStrikethrough\": false, \"from\": \"Johnny Winter\", \"title\": \"\\u003cb\\u003eJohnny Winter\\u003c/b\\u003e\\u003c/br\\u003ewas infuenced by\\u003c/br\\u003eB.B. King\", \"to\": \"B.B. King\", \"value\": 10}, {\"arrowStrikethrough\": false, \"from\": \"Johnny Winter\", \"title\": \"\\u003cb\\u003eJohnny Winter\\u003c/b\\u003e\\u003c/br\\u003ewas infuenced by\\u003c/br\\u003eJimmy Reed\", \"to\": \"Jimmy Reed\", \"value\": 3}, {\"arrowStrikethrough\": false, \"from\": \"Jorma Kaukonen\", \"title\": \"\\u003cb\\u003eJorma Kaukonen\\u003c/b\\u003e\\u003c/br\\u003ewas infuenced by\\u003c/br\\u003eBlind Blake\", \"to\": \"Blind Blake\", \"value\": 8}, {\"arrowStrikethrough\": false, \"from\": \"Jorma Kaukonen\", \"title\": \"\\u003cb\\u003eJorma Kaukonen\\u003c/b\\u003e\\u003c/br\\u003ewas infuenced by\\u003c/br\\u003eBlind Gary Davis\", \"to\": \"Blind Gary Davis\", \"value\": 2}, {\"arrowStrikethrough\": false, \"from\": \"Keith Richards\", \"title\": \"\\u003cb\\u003eKeith Richards\\u003c/b\\u003e\\u003c/br\\u003ewas infuenced by\\u003c/br\\u003eRosetta Tharpe\", \"to\": \"Rosetta Tharpe\", \"value\": 4}, {\"arrowStrikethrough\": false, \"from\": \"Kokomo Arnold\", \"title\": \"\\u003cb\\u003eKokomo Arnold\\u003c/b\\u003e\\u003c/br\\u003ewas infuenced by\\u003c/br\\u003eRobert Johnson\", \"to\": \"Robert Johnson\", \"value\": 9}, {\"arrowStrikethrough\": false, \"from\": \"Larry Carlton\", \"title\": \"\\u003cb\\u003eLarry Carlton\\u003c/b\\u003e\\u003c/br\\u003ewas infuenced by\\u003c/br\\u003eB.B. King\", \"to\": \"B.B. King\", \"value\": 10}, {\"arrowStrikethrough\": false, \"from\": \"Larry Carlton\", \"title\": \"\\u003cb\\u003eLarry Carlton\\u003c/b\\u003e\\u003c/br\\u003ewas infuenced by\\u003c/br\\u003eBarney Kessel\", \"to\": \"Barney Kessel\", \"value\": 2}, {\"arrowStrikethrough\": false, \"from\": \"Larry Carlton\", \"title\": \"\\u003cb\\u003eLarry Carlton\\u003c/b\\u003e\\u003c/br\\u003ewas infuenced by\\u003c/br\\u003eJoe Pass\", \"to\": \"Joe Pass\", \"value\": 2}, {\"arrowStrikethrough\": false, \"from\": \"Larry Carlton\", \"title\": \"\\u003cb\\u003eLarry Carlton\\u003c/b\\u003e\\u003c/br\\u003ewas infuenced by\\u003c/br\\u003eWes Montgomery\", \"to\": \"Wes Montgomery\", \"value\": 3}, {\"arrowStrikethrough\": false, \"from\": \"Lead Belly\", \"title\": \"\\u003cb\\u003eLead Belly\\u003c/b\\u003e\\u003c/br\\u003ewas infuenced by\\u003c/br\\u003eBlind Lemon Jefferson\", \"to\": \"Blind Lemon Jefferson\", \"value\": 7}, {\"arrowStrikethrough\": false, \"from\": \"Lee Jackson\", \"title\": \"\\u003cb\\u003eLee Jackson\\u003c/b\\u003e\\u003c/br\\u003ewas infuenced by\\u003c/br\\u003eunavailable\", \"to\": \"unavailable\", \"value\": 0}, {\"arrowStrikethrough\": false, \"from\": \"Les Paul\", \"title\": \"\\u003cb\\u003eLes Paul\\u003c/b\\u003e\\u003c/br\\u003ewas infuenced by\\u003c/br\\u003eunavailable\", \"to\": \"unavailable\", \"value\": 1}, {\"arrowStrikethrough\": false, \"from\": \"Leslie West\", \"title\": \"\\u003cb\\u003eLeslie West\\u003c/b\\u003e\\u003c/br\\u003ewas infuenced by\\u003c/br\\u003eunavailable\", \"to\": \"unavailable\", \"value\": 2}, {\"arrowStrikethrough\": false, \"from\": \"Lightnin Hopkins\", \"title\": \"\\u003cb\\u003eLightnin Hopkins\\u003c/b\\u003e\\u003c/br\\u003ewas infuenced by\\u003c/br\\u003eBlind Lemon Jefferson\", \"to\": \"Blind Lemon Jefferson\", \"value\": 7}, {\"arrowStrikethrough\": false, \"from\": \"Lonnie Johnson\", \"title\": \"\\u003cb\\u003eLonnie Johnson\\u003c/b\\u003e\\u003c/br\\u003ewas infuenced by\\u003c/br\\u003eunavailable\", \"to\": \"unavailable\", \"value\": 2}, {\"arrowStrikethrough\": false, \"from\": \"Madkin Butler\", \"title\": \"\\u003cb\\u003eMadkin Butler\\u003c/b\\u003e\\u003c/br\\u003ewas infuenced by\\u003c/br\\u003eunavailable\", \"to\": \"unavailable\", \"value\": 1}, {\"arrowStrikethrough\": false, \"from\": \"Michael Bloomfield\", \"title\": \"\\u003cb\\u003eMichael Bloomfield\\u003c/b\\u003e\\u003c/br\\u003ewas infuenced by\\u003c/br\\u003eScotty Moore\", \"to\": \"Scotty Moore\", \"value\": 3}, {\"arrowStrikethrough\": false, \"from\": \"Michael Bloomfield\", \"title\": \"\\u003cb\\u003eMichael Bloomfield\\u003c/b\\u003e\\u003c/br\\u003ewas infuenced by\\u003c/br\\u003eChuck Berry\", \"to\": \"Chuck Berry\", \"value\": 2}, {\"arrowStrikethrough\": false, \"from\": \"Michael Bloomfield\", \"title\": \"\\u003cb\\u003eMichael Bloomfield\\u003c/b\\u003e\\u003c/br\\u003ewas infuenced by\\u003c/br\\u003eLittle Richard\", \"to\": \"Little Richard\", \"value\": 2}, {\"arrowStrikethrough\": false, \"from\": \"Michael Bloomfield\", \"title\": \"\\u003cb\\u003eMichael Bloomfield\\u003c/b\\u003e\\u003c/br\\u003ewas infuenced by\\u003c/br\\u003eB.B. King\", \"to\": \"B.B. King\", \"value\": 10}, {\"arrowStrikethrough\": false, \"from\": \"Michael Bloomfield\", \"title\": \"\\u003cb\\u003eMichael Bloomfield\\u003c/b\\u003e\\u003c/br\\u003ewas infuenced by\\u003c/br\\u003eBig Joe Williams\", \"to\": \"Big Joe Williams\", \"value\": 2}, {\"arrowStrikethrough\": false, \"from\": \"Michael Bloomfield\", \"title\": \"\\u003cb\\u003eMichael Bloomfield\\u003c/b\\u003e\\u003c/br\\u003ewas infuenced by\\u003c/br\\u003eOtis Rush\", \"to\": \"Otis Rush\", \"value\": 3}, {\"arrowStrikethrough\": false, \"from\": \"Michael Bloomfield\", \"title\": \"\\u003cb\\u003eMichael Bloomfield\\u003c/b\\u003e\\u003c/br\\u003ewas infuenced by\\u003c/br\\u003eAlbert King\", \"to\": \"Albert King\", \"value\": 5}, {\"arrowStrikethrough\": false, \"from\": \"Michael Bloomfield\", \"title\": \"\\u003cb\\u003eMichael Bloomfield\\u003c/b\\u003e\\u003c/br\\u003ewas infuenced by\\u003c/br\\u003eFreddie King\", \"to\": \"Freddie King\", \"value\": 3}, {\"arrowStrikethrough\": false, \"from\": \"Michael Schenker\", \"title\": \"\\u003cb\\u003eMichael Schenker\\u003c/b\\u003e\\u003c/br\\u003ewas infuenced by\\u003c/br\\u003eJimmy Page\", \"to\": \"Jimmy Page\", \"value\": 3}, {\"arrowStrikethrough\": false, \"from\": \"Michael Schenker\", \"title\": \"\\u003cb\\u003eMichael Schenker\\u003c/b\\u003e\\u003c/br\\u003ewas infuenced by\\u003c/br\\u003eJeff Beck\", \"to\": \"Jeff Beck\", \"value\": 7}, {\"arrowStrikethrough\": false, \"from\": \"Michael Schenker\", \"title\": \"\\u003cb\\u003eMichael Schenker\\u003c/b\\u003e\\u003c/br\\u003ewas infuenced by\\u003c/br\\u003eEric Clapton\", \"to\": \"Eric Clapton\", \"value\": 6}, {\"arrowStrikethrough\": false, \"from\": \"Michael Schenker\", \"title\": \"\\u003cb\\u003eMichael Schenker\\u003c/b\\u003e\\u003c/br\\u003ewas infuenced by\\u003c/br\\u003eLeslie West\", \"to\": \"Leslie West\", \"value\": 3}, {\"arrowStrikethrough\": false, \"from\": \"Michael Schenker\", \"title\": \"\\u003cb\\u003eMichael Schenker\\u003c/b\\u003e\\u003c/br\\u003ewas infuenced by\\u003c/br\\u003eJohnny Winter\", \"to\": \"Johnny Winter\", \"value\": 2}, {\"arrowStrikethrough\": false, \"from\": \"Michael Schenker\", \"title\": \"\\u003cb\\u003eMichael Schenker\\u003c/b\\u003e\\u003c/br\\u003ewas infuenced by\\u003c/br\\u003eRory Gallagher\", \"to\": \"Rory Gallagher\", \"value\": 2}, {\"arrowStrikethrough\": false, \"from\": \"Mick Mars\", \"title\": \"\\u003cb\\u003eMick Mars\\u003c/b\\u003e\\u003c/br\\u003ewas infuenced by\\u003c/br\\u003eJeff Beck\", \"to\": \"Jeff Beck\", \"value\": 6}, {\"arrowStrikethrough\": false, \"from\": \"Mick Mars\", \"title\": \"\\u003cb\\u003eMick Mars\\u003c/b\\u003e\\u003c/br\\u003ewas infuenced by\\u003c/br\\u003eEric Clapton\", \"to\": \"Eric Clapton\", \"value\": 5}, {\"arrowStrikethrough\": false, \"from\": \"Mick Mars\", \"title\": \"\\u003cb\\u003eMick Mars\\u003c/b\\u003e\\u003c/br\\u003ewas infuenced by\\u003c/br\\u003eJimi Hendrix\", \"to\": \"Jimi Hendrix\", \"value\": 4}, {\"arrowStrikethrough\": false, \"from\": \"Mick Mars\", \"title\": \"\\u003cb\\u003eMick Mars\\u003c/b\\u003e\\u003c/br\\u003ewas infuenced by\\u003c/br\\u003eMichael Bloomfield\", \"to\": \"Michael Bloomfield\", \"value\": 1}, {\"arrowStrikethrough\": false, \"from\": \"Muddy Waters\", \"title\": \"\\u003cb\\u003eMuddy Waters\\u003c/b\\u003e\\u003c/br\\u003ewas infuenced by\\u003c/br\\u003eCharley Patton\", \"to\": \"Charley Patton\", \"value\": 10}, {\"arrowStrikethrough\": false, \"from\": \"Muddy Waters\", \"title\": \"\\u003cb\\u003eMuddy Waters\\u003c/b\\u003e\\u003c/br\\u003ewas infuenced by\\u003c/br\\u003eTampa Red\", \"to\": \"Tampa Red\", \"value\": 12}, {\"arrowStrikethrough\": false, \"from\": \"Otis Rush\", \"title\": \"\\u003cb\\u003eOtis Rush\\u003c/b\\u003e\\u003c/br\\u003ewas infuenced by\\u003c/br\\u003eMuddy Waters\", \"to\": \"Muddy Waters\", \"value\": 9}, {\"arrowStrikethrough\": false, \"from\": \"Pee Wee Crayton\", \"title\": \"\\u003cb\\u003ePee Wee Crayton\\u003c/b\\u003e\\u003c/br\\u003ewas infuenced by\\u003c/br\\u003eT-bone Walker\", \"to\": \"T-bone Walker\", \"value\": 4}, {\"arrowStrikethrough\": false, \"from\": \"Pete Seeger\", \"title\": \"\\u003cb\\u003ePete Seeger\\u003c/b\\u003e\\u003c/br\\u003ewas infuenced by\\u003c/br\\u003eunavailable\", \"to\": \"unavailable\", \"value\": 1}, {\"arrowStrikethrough\": false, \"from\": \"Pink Anderson\", \"title\": \"\\u003cb\\u003ePink Anderson\\u003c/b\\u003e\\u003c/br\\u003ewas infuenced by\\u003c/br\\u003eBlind Simmie Dooley\", \"to\": \"Blind Simmie Dooley\", \"value\": 2}, {\"arrowStrikethrough\": false, \"from\": \"Ralph McTell\", \"title\": \"\\u003cb\\u003eRalph McTell\\u003c/b\\u003e\\u003c/br\\u003ewas infuenced by\\u003c/br\\u003eBlind Blake\", \"to\": \"Blind Blake\", \"value\": 8}, {\"arrowStrikethrough\": false, \"from\": \"Ralph McTell\", \"title\": \"\\u003cb\\u003eRalph McTell\\u003c/b\\u003e\\u003c/br\\u003ewas infuenced by\\u003c/br\\u003eBlind Willie McTell\", \"to\": \"Blind Willie McTell\", \"value\": 2}, {\"arrowStrikethrough\": false, \"from\": \"Ralph McTell\", \"title\": \"\\u003cb\\u003eRalph McTell\\u003c/b\\u003e\\u003c/br\\u003ewas infuenced by\\u003c/br\\u003eRobert Johnson\", \"to\": \"Robert Johnson\", \"value\": 8}, {\"arrowStrikethrough\": false, \"from\": \"Richard Trice\", \"title\": \"\\u003cb\\u003eRichard Trice\\u003c/b\\u003e\\u003c/br\\u003ewas infuenced by\\u003c/br\\u003eBlind Boy Fuller\", \"to\": \"Blind Boy Fuller\", \"value\": 3}, {\"arrowStrikethrough\": false, \"from\": \"Robby Krieger\", \"title\": \"\\u003cb\\u003eRobby Krieger\\u003c/b\\u003e\\u003c/br\\u003ewas infuenced by\\u003c/br\\u003eAlbert King\", \"to\": \"Albert King\", \"value\": 5}, {\"arrowStrikethrough\": false, \"from\": \"Robby Krieger\", \"title\": \"\\u003cb\\u003eRobby Krieger\\u003c/b\\u003e\\u003c/br\\u003ewas infuenced by\\u003c/br\\u003eLarry Carlton\", \"to\": \"Larry Carlton\", \"value\": 2}, {\"arrowStrikethrough\": false, \"from\": \"Robby Krieger\", \"title\": \"\\u003cb\\u003eRobby Krieger\\u003c/b\\u003e\\u003c/br\\u003ewas infuenced by\\u003c/br\\u003eWes Montgomery\", \"to\": \"Wes Montgomery\", \"value\": 3}, {\"arrowStrikethrough\": false, \"from\": \"Robert Cray\", \"title\": \"\\u003cb\\u003eRobert Cray\\u003c/b\\u003e\\u003c/br\\u003ewas infuenced by\\u003c/br\\u003eAlbert Collins\", \"to\": \"Albert Collins\", \"value\": 1}, {\"arrowStrikethrough\": false, \"from\": \"Robert Cray\", \"title\": \"\\u003cb\\u003eRobert Cray\\u003c/b\\u003e\\u003c/br\\u003ewas infuenced by\\u003c/br\\u003eB.B. King\", \"to\": \"B.B. King\", \"value\": 9}, {\"arrowStrikethrough\": false, \"from\": \"Robert Cray\", \"title\": \"\\u003cb\\u003eRobert Cray\\u003c/b\\u003e\\u003c/br\\u003ewas infuenced by\\u003c/br\\u003eMuddy Waters\", \"to\": \"Muddy Waters\", \"value\": 7}, {\"arrowStrikethrough\": false, \"from\": \"Robert Johnson\", \"title\": \"\\u003cb\\u003eRobert Johnson\\u003c/b\\u003e\\u003c/br\\u003ewas infuenced by\\u003c/br\\u003eBlind Willie Johnson\", \"to\": \"Blind Willie Johnson\", \"value\": 12}, {\"arrowStrikethrough\": false, \"from\": \"Robert Johnson\", \"title\": \"\\u003cb\\u003eRobert Johnson\\u003c/b\\u003e\\u003c/br\\u003ewas infuenced by\\u003c/br\\u003eIke Zimmerman\", \"to\": \"Ike Zimmerman\", \"value\": 9}, {\"arrowStrikethrough\": false, \"from\": \"Robert Johnson\", \"title\": \"\\u003cb\\u003eRobert Johnson\\u003c/b\\u003e\\u003c/br\\u003ewas infuenced by\\u003c/br\\u003eSon House\", \"to\": \"Son House\", \"value\": 10}, {\"arrowStrikethrough\": false, \"from\": \"Robert Lockwood Jr\", \"title\": \"\\u003cb\\u003eRobert Lockwood Jr\\u003c/b\\u003e\\u003c/br\\u003ewas infuenced by\\u003c/br\\u003eRobert Johnson\", \"to\": \"Robert Johnson\", \"value\": 9}, {\"arrowStrikethrough\": false, \"from\": \"Robert Nighthawk\", \"title\": \"\\u003cb\\u003eRobert Nighthawk\\u003c/b\\u003e\\u003c/br\\u003ewas infuenced by\\u003c/br\\u003eHouston Stackhouse\", \"to\": \"Houston Stackhouse\", \"value\": 3}, {\"arrowStrikethrough\": false, \"from\": \"Robert Nighthawk\", \"title\": \"\\u003cb\\u003eRobert Nighthawk\\u003c/b\\u003e\\u003c/br\\u003ewas infuenced by\\u003c/br\\u003eTampa Red\", \"to\": \"Tampa Red\", \"value\": 5}, {\"arrowStrikethrough\": false, \"from\": \"Rory Gallagher\", \"title\": \"\\u003cb\\u003eRory Gallagher\\u003c/b\\u003e\\u003c/br\\u003ewas infuenced by\\u003c/br\\u003eBig Bill Broonzy\", \"to\": \"Big Bill Broonzy\", \"value\": 2}, {\"arrowStrikethrough\": false, \"from\": \"Rory Gallagher\", \"title\": \"\\u003cb\\u003eRory Gallagher\\u003c/b\\u003e\\u003c/br\\u003ewas infuenced by\\u003c/br\\u003eLead Belly\", \"to\": \"Lead Belly\", \"value\": 3}, {\"arrowStrikethrough\": false, \"from\": \"Rosetta Tharpe\", \"title\": \"\\u003cb\\u003eRosetta Tharpe\\u003c/b\\u003e\\u003c/br\\u003ewas infuenced by\\u003c/br\\u003eunavailable\", \"to\": \"unavailable\", \"value\": 4}, {\"arrowStrikethrough\": false, \"from\": \"Ry Cooder\", \"title\": \"\\u003cb\\u003eRy Cooder\\u003c/b\\u003e\\u003c/br\\u003ewas infuenced by\\u003c/br\\u003eBlind Blake\", \"to\": \"Blind Blake\", \"value\": 8}, {\"arrowStrikethrough\": false, \"from\": \"Ry Cooder\", \"title\": \"\\u003cb\\u003eRy Cooder\\u003c/b\\u003e\\u003c/br\\u003ewas infuenced by\\u003c/br\\u003eBlind Willie Johnson\", \"to\": \"Blind Willie Johnson\", \"value\": 4}, {\"arrowStrikethrough\": false, \"from\": \"Ry Cooder\", \"title\": \"\\u003cb\\u003eRy Cooder\\u003c/b\\u003e\\u003c/br\\u003ewas infuenced by\\u003c/br\\u003eTampa Red\", \"to\": \"Tampa Red\", \"value\": 5}, {\"arrowStrikethrough\": false, \"from\": \"Sammy Lawhorne\", \"title\": \"\\u003cb\\u003eSammy Lawhorne\\u003c/b\\u003e\\u003c/br\\u003ewas infuenced by\\u003c/br\\u003eHouston Stackhouse\", \"to\": \"Houston Stackhouse\", \"value\": 3}, {\"arrowStrikethrough\": false, \"from\": \"Sammy Lawhorne\", \"title\": \"\\u003cb\\u003eSammy Lawhorne\\u003c/b\\u003e\\u003c/br\\u003ewas infuenced by\\u003c/br\\u003eSonny Boy Williamson\", \"to\": \"Sonny Boy Williamson\", \"value\": 1}, {\"arrowStrikethrough\": false, \"from\": \"Scotty Moore\", \"title\": \"\\u003cb\\u003eScotty Moore\\u003c/b\\u003e\\u003c/br\\u003ewas infuenced by\\u003c/br\\u003eunavailable\", \"to\": \"unavailable\", \"value\": 2}, {\"arrowStrikethrough\": false, \"from\": \"Son House\", \"title\": \"\\u003cb\\u003eSon House\\u003c/b\\u003e\\u003c/br\\u003ewas infuenced by\\u003c/br\\u003eRube Lacey\", \"to\": \"Rube Lacey\", \"value\": 3}, {\"arrowStrikethrough\": false, \"from\": \"Sonny Boy Williamson\", \"title\": \"\\u003cb\\u003eSonny Boy Williamson\\u003c/b\\u003e\\u003c/br\\u003ewas infuenced by\\u003c/br\\u003eRobert Johnson\", \"to\": \"Robert Johnson\", \"value\": 9}, {\"arrowStrikethrough\": false, \"from\": \"Stevie Ray Vaughan\", \"title\": \"\\u003cb\\u003eStevie Ray Vaughan\\u003c/b\\u003e\\u003c/br\\u003ewas infuenced by\\u003c/br\\u003eAlbert King\", \"to\": \"Albert King\", \"value\": 4}, {\"arrowStrikethrough\": false, \"from\": \"Stevie Ray Vaughan\", \"title\": \"\\u003cb\\u003eStevie Ray Vaughan\\u003c/b\\u003e\\u003c/br\\u003ewas infuenced by\\u003c/br\\u003eJimi Hendrix\", \"to\": \"Jimi Hendrix\", \"value\": 4}, {\"arrowStrikethrough\": false, \"from\": \"Stevie Ray Vaughan\", \"title\": \"\\u003cb\\u003eStevie Ray Vaughan\\u003c/b\\u003e\\u003c/br\\u003ewas infuenced by\\u003c/br\\u003eMuddy Waters\", \"to\": \"Muddy Waters\", \"value\": 7}, {\"arrowStrikethrough\": false, \"from\": \"Stevie Ray Vaughan\", \"title\": \"\\u003cb\\u003eStevie Ray Vaughan\\u003c/b\\u003e\\u003c/br\\u003ewas infuenced by\\u003c/br\\u003eOtis Rush\", \"to\": \"Otis Rush\", \"value\": 2}, {\"arrowStrikethrough\": false, \"from\": \"T-bone Walker\", \"title\": \"\\u003cb\\u003eT-bone Walker\\u003c/b\\u003e\\u003c/br\\u003ewas infuenced by\\u003c/br\\u003eBlind Lemon Jefferson\", \"to\": \"Blind Lemon Jefferson\", \"value\": 9}, {\"arrowStrikethrough\": false, \"from\": \"Tampa Red\", \"title\": \"\\u003cb\\u003eTampa Red\\u003c/b\\u003e\\u003c/br\\u003ewas infuenced by\\u003c/br\\u003eunavailable\", \"to\": \"unavailable\", \"value\": 5}, {\"arrowStrikethrough\": false, \"from\": \"Tommy Johnson\", \"title\": \"\\u003cb\\u003eTommy Johnson\\u003c/b\\u003e\\u003c/br\\u003ewas infuenced by\\u003c/br\\u003eunavailable\", \"to\": \"unavailable\", \"value\": 0}, {\"arrowStrikethrough\": false, \"from\": \"Tony Hollins\", \"title\": \"\\u003cb\\u003eTony Hollins\\u003c/b\\u003e\\u003c/br\\u003ewas infuenced by\\u003c/br\\u003eunavailable\", \"to\": \"unavailable\", \"value\": 1}, {\"arrowStrikethrough\": false, \"from\": \"Tony Iommi\", \"title\": \"\\u003cb\\u003eTony Iommi\\u003c/b\\u003e\\u003c/br\\u003ewas infuenced by\\u003c/br\\u003eHank Marvin\", \"to\": \"Hank Marvin\", \"value\": 2}, {\"arrowStrikethrough\": false, \"from\": \"Wes Montgomery\", \"title\": \"\\u003cb\\u003eWes Montgomery\\u003c/b\\u003e\\u003c/br\\u003ewas infuenced by\\u003c/br\\u003eCharlie Christian\", \"to\": \"Charlie Christian\", \"value\": 4}, {\"arrowStrikethrough\": false, \"from\": \"Willie Brown\", \"title\": \"\\u003cb\\u003eWillie Brown\\u003c/b\\u003e\\u003c/br\\u003ewas infuenced by\\u003c/br\\u003eunavailable\", \"to\": \"unavailable\", \"value\": 0}, {\"arrowStrikethrough\": false, \"from\": \"Willie Dixon\", \"title\": \"\\u003cb\\u003eWillie Dixon\\u003c/b\\u003e\\u003c/br\\u003ewas infuenced by\\u003c/br\\u003eunavailable\", \"to\": \"unavailable\", \"value\": 0}, {\"arrowStrikethrough\": false, \"from\": \"Woodrow Adams\", \"title\": \"\\u003cb\\u003eWoodrow Adams\\u003c/b\\u003e\\u003c/br\\u003ewas infuenced by\\u003c/br\\u003eHowlin Wolf\", \"to\": \"Howlin Wolf\", \"value\": 4}, {\"arrowStrikethrough\": false, \"from\": \"Lita Ford\", \"title\": \"\\u003cb\\u003eLita Ford\\u003c/b\\u003e\\u003c/br\\u003ewas infuenced by\\u003c/br\\u003eJeff Beck\", \"to\": \"Jeff Beck\", \"value\": 6}, {\"arrowStrikethrough\": false, \"from\": \"Lita Ford\", \"title\": \"\\u003cb\\u003eLita Ford\\u003c/b\\u003e\\u003c/br\\u003ewas infuenced by\\u003c/br\\u003eRitchie Blackmore\", \"to\": \"Ritchie Blackmore\", \"value\": 1}, {\"arrowStrikethrough\": false, \"from\": \"Ritchie Blackmore\", \"title\": \"\\u003cb\\u003eRitchie Blackmore\\u003c/b\\u003e\\u003c/br\\u003ewas infuenced by\\u003c/br\\u003eEric Clapton\", \"to\": \"Eric Clapton\", \"value\": 6}]);\n",
              "\n",
              "        // adding nodes and edges to the graph\n",
              "        data = {nodes: nodes, edges: edges};\n",
              "\n",
              "        var options = {\"nodes\": {\"color\": {\"border\": \"rgba(131,138,165,0.47)\", \"background\": \"rgba(137,138,155,0.78)\"}, \"shadow\": {\"enabled\": true}}, \"font\": {\"size\": 50, \"face\": \"verdana\", \"strokeColor\": \"rgba(190,168,255,1)\"}, \"edges\": {\"arrows\": {\"to\": {\"enabled\": true}}, \"color\": {\"color\": \"rgba(199,205,214,0.31)\", \"highlight\": \"rgba(104,133,214,1)\", \"hover\": \"rgba(129,186,255,1)\", \"inherit\": false}, \"hoverWidth\": 2}, \"interaction\": {\"hover\": true, \"multiselect\": true}, \"manipulation\": {\"enabled\": false, \"initiallyActive\": false}, \"physics\": {\"forceAtlas2Based\": {\"springLength\": 100}, \"minVelocity\": 0.75, \"solver\": \"forceAtlas2Based\"}};\n",
              "        \n",
              "        \n",
              "\n",
              "        \n",
              "\n",
              "        network = new vis.Network(container, data, options);\n",
              "\t \n",
              "        \n",
              "\n",
              "\n",
              "        \n",
              "        network.on(\"stabilizationProgress\", function(params) {\n",
              "      \t\tdocument.getElementById('loadingBar').removeAttribute(\"style\");\n",
              "\t        var maxWidth = 496;\n",
              "\t        var minWidth = 20;\n",
              "\t        var widthFactor = params.iterations/params.total;\n",
              "\t        var width = Math.max(minWidth,maxWidth * widthFactor);\n",
              "\n",
              "\t        document.getElementById('bar').style.width = width + 'px';\n",
              "\t        document.getElementById('text').innerHTML = Math.round(widthFactor*100) + '%';\n",
              "\t    });\n",
              "\t    network.once(\"stabilizationIterationsDone\", function() {\n",
              "\t        document.getElementById('text').innerHTML = '100%';\n",
              "\t        document.getElementById('bar').style.width = '496px';\n",
              "\t        document.getElementById('loadingBar').style.opacity = 0;\n",
              "\t        // really clean the dom element\n",
              "\t        setTimeout(function () {document.getElementById('loadingBar').style.display = 'none';}, 500);\n",
              "\t    });\n",
              "        \n",
              "\n",
              "        return network;\n",
              "\n",
              "    }\n",
              "\n",
              "    drawGraph();\n",
              "\n",
              "</script>\n",
              "</body>\n",
              "</html>"
            ],
            "text/plain": [
              "<IPython.core.display.HTML object>"
            ]
          },
          "metadata": {},
          "execution_count": 34
        }
      ]
    }
  ]
}